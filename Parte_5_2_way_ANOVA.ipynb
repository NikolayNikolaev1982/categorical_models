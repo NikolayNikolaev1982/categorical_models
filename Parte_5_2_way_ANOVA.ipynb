{
  "nbformat": 4,
  "nbformat_minor": 0,
  "metadata": {
    "colab": {
      "provenance": [],
      "authorship_tag": "ABX9TyNMRpZdkXT3fbpYBSVbeoyj",
      "include_colab_link": true
    },
    "kernelspec": {
      "name": "python3",
      "display_name": "Python 3"
    },
    "language_info": {
      "name": "python"
    }
  },
  "cells": [
    {
      "cell_type": "markdown",
      "metadata": {
        "id": "view-in-github",
        "colab_type": "text"
      },
      "source": [
        "<a href=\"https://colab.research.google.com/github/NikolayNikolaev1982/categorical_models/blob/main/Parte_5_2_way_ANOVA.ipynb\" target=\"_parent\"><img src=\"https://colab.research.google.com/assets/colab-badge.svg\" alt=\"Open In Colab\"/></a>"
      ]
    },
    {
      "cell_type": "markdown",
      "source": [
        "# Video 1:\n",
        "# Modello ANOVA a DUE VIE\n",
        "\n",
        "Punto di partenza: due var categoriali A e B con:\n",
        "- A->a=numero totale di categorie o modlaita o livelli\n",
        "  - $A_i$ generica categoraia di A i=1...a\n",
        "\n",
        "- B-> b num.cat\n",
        "  - $B_j$ - generica j=1...b\n",
        "\n",
        "A e B rilevate su un campione di n - u.s. insieme alla var dip Y\n",
        "- organizzazione delle osservazioni campionarie in forma tabellare\n",
        "  - generaica cella ($A_i, B_j$) della tabella:\n",
        "\n",
        "|   | $B_j$  |   |   |\n",
        "|---    |---|---|---|\n",
        "|$A_i$  |$y_{ij1},y_{ij2}\\\\...y_{ijl}...y_{ijn_{ij}} $  |   |   |\n",
        "|       |   |   |   |\n",
        "|   |   |   |   |\n",
        "|   |   |   |   |\n",
        "\n",
        "dove:\n",
        "- $A_iB_j$ combinazione generale della categorie A_i, e B_j delle var A e B, ogni i=1...a, j=1...b,\n",
        "- $l= 1...n_{ij}$ indice delle u.s. $y_{ijl}$: valore di Y osservato sulla l-essima u.s. entro la combinazione $(A_i, B_j)$ ogni, (i.g,l)\n",
        "\n",
        "\n",
        "### AMpiezza del campione:\n",
        "- $n=\\sum_{i=1}^a \\sum_{j=1}^b n_{ij}$\n",
        "\n",
        "1. Dato mpm bilanciati: $n_{ij}\\ne n_{sq}$ per almeno un confronto fra (i,j) e (s,q)\n",
        "\n",
        "2. dati bilanciati:\n",
        "$$n_{ij}= \\bar{n}=\\frac{n}{ab}$$ ogni i,j\n",
        "- dove ab= numero totale di combinazioni di categorie (A_i, B_j) ogni i,j\n",
        "\n",
        "Al variare del campione:\n",
        "\n",
        "$$y_{ijl}-> Y_{ijl}$$\n",
        "- v.c che descrive il risultato della l-esima estazione entro (A_i, B_j) ogni $i,j,l$\n",
        "\n",
        "Obbietivo: studiare la dipendenza in media di Y delle due var.categ A e B rilevate congiuntamente\n",
        "- modello 2-way Anova di classificazione complerto in due versioni:\n",
        "\n",
        "1. modello delle medie:\n",
        "$$Y_{ijl}= \\mu_{ij}+\\epsilon_{ijl}$$ ogni i,j,l\n",
        "- $\\mu_{ij}$ - media di Y entro $(A_i, B_j)$ ogni i,j\n",
        "- $\\epsilon_{ijl}$ - v.c. d'errore relevata alla l-esima estrazione campionaria entro(A_i, B_j) ogni i.j,l\n",
        "\n",
        "2. modello ad effetti fissi:\n",
        "\n",
        "$$Y_{ijl}= \\mu + \\alpha_i + \\beta_j+(\\alpha \\beta)_{ij}+\\epsilon_{ijl}$$ ogni ijl\n",
        "- $\\mu$-effetto comune\n",
        "- $\\alpha_i$ effetto della categoria $A_i$ ogni i\n",
        "- $\\beta_j$ effetto della categoria $B_j$ ogni j\n",
        "- $(\\alpha \\beta)_{ij}$ effetto di interazione (o solo interazione) fra $A_i$ e $B_j$ ogni i,g\n",
        "\n",
        "- media di Y nella popolazione (bilanciata)\n",
        "\n",
        "$$\\mu_{ij}= \\mu + \\alpha_i + \\beta_j + (\\alpha \\beta)_{ij}$$ ogni i,j\n",
        "\n",
        "$\\mu_{i.}= \\frac{1}{b} \\sum_{j=1}^b \\mu_{ij}$ ogni i\n",
        "- media marginale di Y entro A_i\n",
        "\n",
        "$$\\mu_{.j}= \\frac{1}{a} \\sum_{j=1}^b \\mu_{ij}$ ogni j,\n",
        "- media marginale di Y entro $B_j$\n",
        "\n",
        "$\\mu=\\frac{1}{ab} \\sum_{i=1}^a \\sum_{j=1}$\n",
        "^b \\mu_{ij}$ media coplessiva di Y\n",
        "\n",
        "dove $\\mu_{ij}$ e' la media comgiunta di Y entro ($A_i, B_j$) ogni $i,j$\n",
        "\n",
        "\n",
        "#### SIgnificati degli effetti:\n",
        "$\\alpha_i=\\mu_{i.}-\\mu$\n",
        "\n",
        "$\\beta_j=\\mu_{.j}-\\mu$\n",
        "\n",
        "$$(\\alpha \\beta)_{ij}= \\mu_{ij}- \\mu_{i.}-\\mu_{.j}+\\mu=$$\n",
        "$$= (\\mu_{ij}-\\mu_{i.})-(\\mu_{.j}- \\mu)= $$\n",
        "$$=(\\mu_{ij}-\\mu_{.j})- (\\mu_{i.}-\\mu)$$\n",
        "\n",
        "- interazione come confronto di due differenze fra medie:\n",
        "\n",
        "||$B_j$||\n",
        "|---|---|---|\n",
        "|$A_i$|$\\mu_{ij}$ |$\\mu_{i.}$|\n",
        "||$\\mu_{.j}$|$\\mu$|\n",
        "\n",
        "Primo modo di valutare:\n",
        "- $\\mu_{ij}-\\mu_{i.}$\n",
        "- $\\mu_{.j}-\\mu$\n",
        "\n",
        "Secondo:\n",
        "- $\\mu_{ij}-\\mu_{.j}$\n",
        "- $\\mu_{i.}-\\mu$\n",
        "\n",
        "\n",
        "\n",
        "\n",
        "\n"
      ],
      "metadata": {
        "id": "cCiSsdrZv07l"
      }
    },
    {
      "cell_type": "markdown",
      "source": [
        "## Scrivere in termini GLM del modello ANOVA a due vie:\n",
        "\n",
        "$$Y=X\\beta+\\epsilon$$\n",
        "\n",
        "dove:\n",
        "\n",
        "$\\beta_{p*1}=[\\mu, \\alpha_1...\\alpha_i..\\alpha_a, \\beta_1...\\beta_j...\\beta_b, (\\alpha\\beta)_{11}....(\\alpha\\beta)_{ij}...(\\alpha\\beta)_{ab}]^t$\n",
        "\n",
        "$p=1 + a+ b +ab$ numero totle di parametri\n",
        "\n",
        "$Y_{n*1}=[Y_{111}...Y_{ijl}...Y_{abn_{ab}}]^t$\n",
        "\n",
        "$\\epsilon_{n*1}=[\\epsilon_{111}...\\epsilon_{ijl}...\\epsilon_{abn_{ab}}]^t$\n",
        "\n",
        "$X_{n*p}$- matrice disegno (com la consulta struttura binaria)\n",
        "\n",
        "$rank(X)=?$\n",
        "\n",
        "Esempio:\n",
        "\n",
        "a=b=2\n",
        "\n",
        "$n_{ij}=\\bar{n}=2$ ogni i,j\n",
        "\n",
        "ab=2*2=4 combinazioni di categorie\n",
        "\n",
        "$n=ab\\bar{n}=2*2*2=8$ ampiezza del campione\n",
        "\n",
        "$p=1+2+2+4=9$ parametri\n",
        "\n",
        "$X_{8*9}$\n",
        "\n",
        "$$\n",
        "\n",
        "$$\n",
        "\\begin{array}{c@{\\hskip 5pt}c}\n",
        "  &\n",
        "  \\begin{array}{cccccc}\n",
        "    \\scriptstyle \\mu &\n",
        "    \\scriptstyle \\alpha_1 &\n",
        "    \\scriptstyle \\alpha_2 &\n",
        "    \\scriptstyle \\beta_1 &\n",
        "     \\scriptstyle \\beta_2 &\n",
        "    \\scriptstyle (\\alpha\\beta)_{11} &\n",
        "    \\scriptstyle (\\alpha\\beta)_{12} &\n",
        "    \\scriptstyle (\\alpha\\beta)_{21} &\n",
        "    \\scriptstyle (\\alpha\\beta)_{22} &\n",
        "  \\end{array}\n",
        "  \\\\\n",
        "  X_{8*9} = &\n",
        "  \\left[\n",
        "  \\begin{array}{ccc}\n",
        "    1 & 1 & 0 & 1 & 0 & 1& 0 & 0 & 0  \\\\\n",
        "    1 & 1 & 0 & 1 & 0 & 1& 0 & 0 & 0  \\\\\n",
        "    1 & 1 & 0 & 0 & 1 & 0& 1 & 0 & 0  \\\\\n",
        "    1 & 1 & 0 & 0 & 1 & 0& 1 & 0 & 0  \\\\\n",
        "    1 & 0 & 1 & 1 & 0 & 0& 0 & 1 & 0  \\\\\n",
        "    1 & 0 & 1 & 1 & 0 & 0& 0 & 1 & 0  \\\\\n",
        "    1 & 0 & 1 & 0 & 1 & 0& 0 & 0 & 1  \\\\\n",
        "    1 & 0 & 1 & 0 & 1 & 0& 0 & 0 & 1  \\\\\n",
        "  \\end{array}\n",
        "  \\right]\n",
        "\\end{array}\n",
        "$$\n",
        "\n",
        "In generale:\n",
        "\n",
        "Rank(X)= 1+ (a-1)+(b-1) = ab\n",
        "\n",
        "---------------------\n",
        "$$\n",
        "\\mathbf{X}_{8 \\times 9} =\n",
        "\\left[\n",
        "\\begin{array}{c|ccccc|cccc}\n",
        "    & \\mu & \\alpha_1 & \\alpha_2 & \\beta_1 & \\beta_2 & (\\alpha\\beta)_{11} & (\\alpha\\beta)_{12} & (\\alpha\\beta)_{21} & (\\alpha\\beta)_{22} \\\\\n",
        "    \\hline\n",
        "    A_1, \\Gamma_1 & 1 & 1 & 0 & 1 & 0 & 1 & 0 & 0 & 0 \\\\\n",
        "    B_1, \\Gamma_1 & 1 & 1 & 0 & 0 & 1 & 0 & 1 & 0 & 0 \\\\\n",
        "    A_2, \\Gamma_1 & 1 & 0 & 1 & 1 & 0 & 0 & 0 & 1 & 0 \\\\\n",
        "    B_2, \\Gamma_1 & 1 & 0 & 1 & 0 & 1 & 0 & 0 & 0 & 1 \\\\\n",
        "    A_1, \\Gamma_2 & 1 & 1 & 0 & 1 & 0 & 1 & 0 & 0 & 0 \\\\\n",
        "    B_1, \\Gamma_2 & 1 & 1 & 0 & 0 & 1 & 0 & 1 & 0 & 0 \\\\\n",
        "    A_2, \\Gamma_2 & 1 & 0 & 1 & 1 & 0 & 0 & 0 & 1 & 0 \\\\\n",
        "    B_2, \\Gamma_2 & 1 & 0 & 1 & 0 & 1 & 0 & 0 & 0 & 1 \\\\\n",
        "\\end{array}\n",
        "\\right]\n",
        "$$\n",
        "\n",
        "--------------\n",
        "\n",
        "In questo caso:\n",
        "\n",
        "rank(X)= 2*2=4\n",
        "\n",
        "p - rankl(X)= 9-4=5 uniota rango perse\n",
        "\n",
        "In generale il numero di unita rango perse e ' pari a:\n",
        "$p-rank(X)= 1+ a+b +ab-ab= 1+a+b$"
      ],
      "metadata": {
        "id": "okdP4Nztv0-S"
      }
    },
    {
      "cell_type": "markdown",
      "source": [],
      "metadata": {
        "id": "2QH1VgrSv1Az"
      }
    },
    {
      "cell_type": "markdown",
      "source": [],
      "metadata": {
        "id": "OZIe_sCiv1DS"
      }
    },
    {
      "cell_type": "markdown",
      "source": [],
      "metadata": {
        "id": "orEG7k3Lv1Fp"
      }
    },
    {
      "cell_type": "markdown",
      "source": [],
      "metadata": {
        "id": "wGTKKgbdv1ID"
      }
    },
    {
      "cell_type": "markdown",
      "source": [],
      "metadata": {
        "id": "4CRna0Rrv1KD"
      }
    },
    {
      "cell_type": "markdown",
      "source": [],
      "metadata": {
        "id": "1ZZAFXIMv1Mg"
      }
    },
    {
      "cell_type": "markdown",
      "source": [],
      "metadata": {
        "id": "fstctdUwv1Ou"
      }
    },
    {
      "cell_type": "markdown",
      "source": [],
      "metadata": {
        "id": "iO2o_--gv1RJ"
      }
    },
    {
      "cell_type": "markdown",
      "source": [],
      "metadata": {
        "id": "F86wpbNSv1Vd"
      }
    },
    {
      "cell_type": "markdown",
      "source": [],
      "metadata": {
        "id": "bFB9URCpv1X1"
      }
    },
    {
      "cell_type": "markdown",
      "source": [],
      "metadata": {
        "id": "ty7vC5Zkv1aA"
      }
    },
    {
      "cell_type": "markdown",
      "source": [],
      "metadata": {
        "id": "h1IGjoExv1cd"
      }
    },
    {
      "cell_type": "markdown",
      "source": [],
      "metadata": {
        "id": "GayBSRaJv1ex"
      }
    },
    {
      "cell_type": "markdown",
      "source": [],
      "metadata": {
        "id": "iuueL85dv1hK"
      }
    },
    {
      "cell_type": "markdown",
      "source": [],
      "metadata": {
        "id": "TEqn03lSv1jU"
      }
    },
    {
      "cell_type": "markdown",
      "source": [],
      "metadata": {
        "id": "E9qWay9Nv1lp"
      }
    },
    {
      "cell_type": "markdown",
      "source": [],
      "metadata": {
        "id": "K3RrU-Skv1nw"
      }
    },
    {
      "cell_type": "markdown",
      "source": [],
      "metadata": {
        "id": "Swhp7iHWv1rr"
      }
    },
    {
      "cell_type": "markdown",
      "source": [],
      "metadata": {
        "id": "0IxZfNgjv1ti"
      }
    }
  ]
}