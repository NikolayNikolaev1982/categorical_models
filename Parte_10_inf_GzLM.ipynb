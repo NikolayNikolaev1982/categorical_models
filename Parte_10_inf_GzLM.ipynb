{
  "nbformat": 4,
  "nbformat_minor": 0,
  "metadata": {
    "colab": {
      "provenance": [],
      "authorship_tag": "ABX9TyM0cGwbrz1j4D5GVT8Kmdc6",
      "include_colab_link": true
    },
    "kernelspec": {
      "name": "python3",
      "display_name": "Python 3"
    },
    "language_info": {
      "name": "python"
    }
  },
  "cells": [
    {
      "cell_type": "markdown",
      "metadata": {
        "id": "view-in-github",
        "colab_type": "text"
      },
      "source": [
        "<a href=\"https://colab.research.google.com/github/NikolayNikolaev1982/categorical_models/blob/main/Parte_10_inf_GzLM.ipynb\" target=\"_parent\"><img src=\"https://colab.research.google.com/assets/colab-badge.svg\" alt=\"Open In Colab\"/></a>"
      ]
    },
    {
      "cell_type": "markdown",
      "source": [],
      "metadata": {
        "id": "aWTruko9iBh2"
      }
    },
    {
      "cell_type": "markdown",
      "source": [],
      "metadata": {
        "id": "0IC5ErHbiBkh"
      }
    },
    {
      "cell_type": "markdown",
      "source": [
        "# Video 1\n",
        "## Inferenza\n",
        "- inferenza approssimata poiche basta su risultati assintotici\n",
        "\n",
        "- requsiti per la sua attendibilita sui dati:\n",
        "  - campioni sufficienti ampi\n",
        "  validita degli assunti alla base dello specifico GzLM prescelto\n",
        "    - specificazione corretta della Link Function\n",
        "    - legge di distribuzione di Y ben individuata nella FE\n",
        "\n",
        "\n",
        "Riferimento di base per l'inferenza (condottain termini classica e sulla base della teoria ML)\n",
        "- matrice di var-cov di $\\hat{B}$ stimata:\n",
        "\n",
        "$$\\hat{V}(\\hat{B})= \\tilde{I}^{-1}= (X^t\\hat{W}X)^{-1}$$\n",
        "- $\\tilde{i}$ matrice di informazione osservata di Fisher\n",
        "- $\\hat{I}$ ricavata come negativo della matrice hesiana\n",
        "\n",
        "Principali risultati alla basse dell'inferenza\n",
        "1. statistica di Wald: sia per la costruzione degli intervali di confidenza sul singolo parametro, sia per la verifica di ipotesi\n",
        "- basata sulla distribuzione asintotica normale dello stimatore ML $\\hat{B}$\n",
        "\n",
        "\n",
        "$$\\hat{B}-\\beta$^t[V(\\hat{B})]^{-1}(\\hat{B}-\\beta) \\sim \\chi_p^2$\n",
        "\n",
        "p -numero di parametri stimabili in $\\beta$\n",
        "\n",
        "Casi notevoli:\n",
        "1. IC per $\\beta_j$ stimabile, j=0,1....,p-1\n",
        "\n",
        "$$\\frac{\\hat{B_j}-\\beta_j}{SE(\\hat{B_j})}\\sim \\chi_1^2$$\n",
        "\n",
        "-> $\\frac{\\hat{B_j-\\beta_j}{SE(\\hat{B_j})}\\sim N(0,1)$ quantita pivotale\n",
        "\n",
        "- SE. stimato: $\\hat{SE}(\\hat{B_j})=\\sqrt{\\hat{Var}(\\hat{B_j})}$\n",
        "- ogni j=0,1...p-1\n",
        "- elemento generico della diagonale principale di $\\hat{V}(\\hat{B})$\n",
        "\n",
        "Procedure per la costruzione dell'IC:\n",
        "- si fissa in $1-\\alpha$ il livello di confidenza\n",
        "  - si detemina il quantile $z_{1-\\frac{\\alpha}{2}}$ di $Z\\sim N(0,1)$ tale che: $P[Z\\ge|z_{1-\\frac{\\alpha}{2}}|]= \\frac{\\alpha}{2}$\n",
        "\n",
        "  - intervallo approssimato\n",
        "  $$\\hat{\\beta_j}\\pm z_{1-\\frac{\\alpha}{2}} \\hat{SE}(\\hat{B_j})$$\n",
        "\n",
        "\n",
        "2. Verifica di Ipotesi: $H_0:\\beta_j=0$ ogni j=0,1...p-1\n",
        "\n",
        "$$[\\frac{\\hat{B_j}}{SE(\\hat{B_j})}]\\sim \\chi_1^2$$\n",
        "\n",
        "$\\beta_j$ stimabile <-> testabile\n",
        "\n",
        "- generalizzazione della statistica di Wald al cado delle funzioni stimabili\n",
        "\n",
        "- caso: rank(X)<p\n",
        "\n",
        "si definisce: $L_{r*p}\\beta_{p*1}$ dove\n",
        "  - rank(L)=r <p\n",
        "\n",
        "  - stimatore per $L\\beta$:\n",
        "  $$\\hat{LB}= LB^o$$\n",
        "  $$V[\\hat{LB}]= L(X^tWX)^{-}L^t$$\n",
        "\n",
        "Statistica di Wald:\n",
        "\n",
        "$$(\\hat{LB}- m)^t[L(X^tWX)^{-}L^t]^{-1}(\\hat{LB}-m) \\sim \\chi_r^2$$\n",
        "- sotto $H_0L K\\beta=m$\n",
        "\n",
        "2. Previsione per le medie\n",
        "- previsione puntuale e intervallare delle medie:\n",
        "\n",
        "$$\\mu_i=E[Y_i]$$\n",
        "- i=1...n\n",
        "\n",
        "LF: $g(\\mu_i)= \\eta_i=x_i^t\\beta$ ogni i=1..n\n",
        "\n",
        "ILF: $\\mu_i=E[Y_i]= g^{-1}(\\eta_i)= g^{-1}(x_i^t\\beta)$\n",
        "- ogni i\n",
        "- ottenuta la stima $\\hat{\\beta}$\n",
        "  - previsione puntuale del predittore lineare\n",
        "$$\\hat{\\eta_i}= x_i^t\\hat{\\beta}$$ ogni i\n",
        "\n",
        "- previsone puntuale di $\\mu_i$\n",
        "$$\\hat{\\mu_i}= g^{-1}(\\hat{\\eta_i})= g^{-1}(x_i^t\\beta)$$ ogni i\n",
        "\n",
        "\n",
        "\n"
      ],
      "metadata": {
        "id": "AluidFGyiBnJ"
      }
    },
    {
      "cell_type": "markdown",
      "source": [
        "Intervallo di previsone approssimato o stima intervallare per $\\mu_i$\n",
        "\n",
        "previsione puntuale del preditore lineare ---> v.c. preditore lineare\n",
        "\n",
        "$$\\hat{\\eta_i}= x_i^t\\hat{\\beta}---> \\hat{H_i}= x_i^t\\hat{B}$$\n",
        "\n",
        "$$Var(\\hat{H_i})= Var(x_i^t\\hat{B})= x_i^tV(\\hat{B})x_i= x_i^t(X^tWX)^{-1}x_i$$ ogni i\n",
        "\n",
        "Interallo di previsione per $\\eta_i$\n",
        "  - basato sulla quantita pivotale: $Z\\sim N(0,1)$ poiche\n",
        "\n",
        "  $$\\hat{X_i}= x_i^t\\hat{B}\\sim N(\\eta_i, Var(\\hat{Hi}))$$\n",
        "  ogni i\n",
        "\n",
        "  $$\\hat{\\eta_i} \\pm z_{1-\\frac{\\alpha}{2}} \\hat{SE}(\\hat{H_i})$$ ogni i\n",
        "\n",
        "  intervallo di previsione per $\\mu_i$\n",
        "  $$g^{-1}(\\hat{\\eta_i}z_{1-\\frac{\\alpha}{2}} \\hat{SE}(\\hat{H_i}))$$ ogni i\n",
        "\n",
        "  $$\\hat{SE}(\\hat{H_i})= \\sqrt{\\hat{Var[\\hat{H_i}]}}= \\sqrt{x_i^t(X^t\\hat{W}X)^{-1}x_i}$$ ogni i\n",
        "\n",
        "  "
      ],
      "metadata": {
        "id": "j4xhlrEAiBqN"
      }
    },
    {
      "cell_type": "markdown",
      "source": [
        "3. Deviance:\n",
        "- basata sulla statistica Raporto di Verosimiglianza (Likelihood Ratio-LR) o anche sul Raporto di Log Verosimiglianza LLR\n",
        "- deriva dal confronto implicito fra due modelli:\n",
        "1. modello saturo - Standard Model SMod\n",
        "2. Modello adattato ai dati e oggetti di Confronto- Fitted Model - FMod\n",
        "\n",
        "Carateristiche dell' SMod\n",
        "- rospetto al FMod ha in comune\n",
        "  - legge di distribuzione di $Y \\in FE$\n",
        "  - LF\n",
        "- SMod ha tanti parametri quante sono le u.s. compionarie p=n\n",
        "  - vettore di parametri\n",
        "  $$\\beta_{max_{n*1}} ≡ \\mu_{n*1}=E[Y]$$\n",
        "\n",
        "Costruzione della Deviance\n",
        "- confronto fra due funzioni di verosimiglianza\n",
        "1. SMod - > $L(\\beta_{max})$\n",
        "2. $FMod-> L(\\beta)$\n",
        "\n",
        "Definita dal raporto:\n",
        "\n",
        "$$\\lambda= \\frac{max_{\\beta_{max}}L(\\beta_{max})}{max_{\\beta}L(\\beta)}=\\frac{L(\\hat{\\beta}_{max})}{L(\\hat{\\beta})}$$\n",
        "\n",
        "determinazione della statistica Raporto di Verosimiglianca:\n",
        "\n",
        "$$\\Lambda= \\frac{L(\\hat{B_{max}})}{L(\\hat{B})}$$\n",
        "\n",
        "Vale: $L(\\hat{\\beta_{max}})\\ge L(\\hat{\\beta})$\n",
        "\n",
        "Trasformazione: $2ln(\\lambda)-> 2.ln(\\Lambda)$\n",
        "\n",
        "LLR: $2ln(\\lambda)= 2ln[\\frac{L(\\hat{\\beta_{max}})}{L(\\hat{\\beta})}]= $\n",
        "\n",
        "$$=2[ln(L(\\hat{\\beta}_{max}))- ln(L(\\hat{\\beta}))]= 2[l(\\hat{\\beta_{max}}- l(\\hat{\\beta}))]=^* $$\n",
        "- * $Y \\ in FE$\n",
        "\n",
        "$$=2\\sum_{i=1}^n [\\frac{y_i\\tilde{\\theta}- b(\\tilde{\\theta})}{a(\\phi)}- \\frac{y_i\\hat{\\theta}- b(\\hat{\\theta})}{a(\\phi)}]=^* $$\n",
        "- * $a(\\phi)= \\frac{\\phi}{w_i}$ w_i>0, ogni i\n",
        "\n",
        "$$= \\frac{2}{\\phi}\\sum_{i=1}^n w_i[y_i(\\tilde{\\theta_i}-\\hat{\\theta_o})- (b(\\tilde{\\theta_i})-b(\\hat{\\theta_i}))]$$\n",
        "\n",
        "dove:\n",
        "- $\\tilde{\\theta}= (\\tilde{\\theta_1}..\\tilde{\\theta_i}...\\tilde{\\theta_n})^t$\n",
        "  - vetore di stime ML nell SMod\n",
        "  - $\\tilde{\\theta$}-> simatore ML $\\tilde{spazio-campionario}$\n",
        "\n",
        "- $\\hat{\\theta}= (\\hat{\\theta_1}..\\hat{\\theta_i}...\\hat{\\theta_n})^t$\n",
        "  - vetore di stime ML nell SMod\n",
        "  - $\\hat{\\theta}$-> simatore ML $\\hat{spazio-campionario}$\n",
        "\n",
        "\n",
        "Osservazione:\n",
        "1. $\\phi=1-> D \\equiv D^*$\n",
        "2. GOF: se GOF(FMod)= GOF(SMod)-> $D^{*}(\\tilde{\\theta}, \\hat{\\theta})= 2.ln(1)= 0$\n",
        "\n",
        "Tuttavia, sia D che $D^*$  non sono misure normalizzate: $D\\in [0, +\\infty), D^*[0, +\\infty)$\n",
        "- problema: come interpretazione la statistica \"deviance\" nella pratica ai fimi della bonda di adattamento di un GzLM ai dati?\n",
        "\n",
        "Si ricore a:\n",
        "- regola empirica: discende dalla distribuzione asintotica:\n",
        "\n",
        "$$D^*(\\tilde{spaz-par}\\hat{spaz.param})\\sim \\chi_{n-p}^2$$\n",
        "- $H_0: GOF(FMod)= GOF(SMod)$\n",
        "\n",
        "con $\\phi$ noto\n",
        "\n",
        "$E[\\chi_{n-p}^2]= n-p$\n",
        "- si considra il rapporto\n",
        "\n",
        "$\\frac{D^*}{n-p}$\n",
        "\n",
        "\n",
        "Se:\n",
        "- $\\frac{D^*}{n-p}>>1$ - FMod conscarso o pesimo adattamento\n",
        "\n",
        "- $\\frac{D^*}{n-p}\\approx 1$ - FMod ha un buon adattamento ai dati\n",
        "\n",
        "\n",
        "\n"
      ],
      "metadata": {
        "id": "D6NOzIj1iBsL"
      }
    },
    {
      "cell_type": "markdown",
      "source": [
        "# Video 2:\n",
        "\n",
        "ANche Statistiche di GOF -  non normalizzate\n",
        "\n",
        "- $ AIC = -2l(\\hat{\\beta}) + 2v$\n",
        "\n",
        "- $BIC = -2l(\\hat{\\beta})+v.ln(n)$\n",
        "\n",
        "dove- v: numero complessivo di paramtri non ridondanti , ossia rank(X)= v. Se rank(X)=p, allora v=p\n",
        "\n",
        "\n",
        "4. Statistica Chi-Quadrato di Pearson\n",
        "- si definisce a partire dai residui stndartizzati del modello:\n",
        "\n",
        "$$r_i= \\frac{y_i-\\hat{\\mu_i}}{\\sqrt{\\hat{Var}[Y_i]}}=^*$$\n",
        "-  *- $a(\\phi)= \\frac{\\phi}{w_i}$\n",
        "\n",
        "$$= \\frac{\\sqrt{w_i}(y_i-\\hat{\\mu_i})}{\\sqrt{\\phi V(\\hat{\\mu_i})}}$$\n",
        "- ogni i\n",
        "\n",
        "Statistica di Pearson:\n",
        "\n",
        "$$X^2=\\frac{\\sum_{i=1}^n w_i (Y_i -\\hat{\\mu_i})^2}{V(\\hat{\\mu_i})}$$\n",
        "- $\\hat{\\mu_i}$ intende ;a v.c. predittore di $\\mu_i$ ogni i=1...n\n",
        "\n",
        "Statistica di Pearson scalata: scaled Pearson X^2\n",
        "\n",
        "$$X^{2*}= \\frac{X^2}{\\phi}=\\sum_{i=1}^n R_i^2 \\sim^* X_{n-p}^2$$\n",
        "- * $H_0: GOF(FMod)=GOF(SMod)$\n",
        "- $\\phi$ noto\n",
        "\n",
        "Priblme della stima di $\\phi$\n",
        "- due approci basati sulla teoria della \"Quasi Likelihood\"\n",
        "\n",
        "\n",
        "1. con la scaled deviance:\n",
        "\n",
        "$$D^*= \\frac{D}{\\phi}$$\n",
        "$$D^* \\sim \\chi_{n-p}$$\n",
        "-> $E[D^*]\\approx n-p$\n",
        "\n",
        "$D^*= \\frac{D}{\\phi} \\approx n-p -> \\hat{\\phi_D}= \\frac{D}{n-p}$\n",
        "\n",
        "2. con la statistica di Pearson scalata:\n",
        "\n",
        "$$X^{2*}= \\frac{X^2}{\\phi} \\sim \\chi_{n-p}^2$$\n",
        "- $H_0: GOF(FMod)=GOF(SMod)$\n",
        "\n",
        "-> $\\frac{X^2}{\\phi} \\approx n-p-> \\hat{\\phi_p}= \\frac{X^2}{n-p}$\n",
        "\n",
        "\n",
        "Il problema della stima di $\\phi$ e' collegato al problema di overdispersion\n",
        "- temine che comprende anche la siituazione opposta di unidispersion\n",
        "  - situazione in cui le osservazion campionarie portano a stime della varianza piu grandi (o piu piccole) rispetto a quelle consentite dalla legge scelta in FE\n",
        "\n",
        "Es: $Y \\sim Poison(\\lambda)-> \\mu=E[Y]= Var[Y]= \\lambda$\n",
        "\n",
        "- Var[Y] stimata sui dati e' piu grande o piu piccola rispetto a $\\hat{\\mu}$ allora:\n",
        "\n",
        "$$Var[Y]= \\phi\\lambda$$\n",
        "- $\\phi$ ignoto e' stimato con $\\hat{\\phi_D}$ o $\\hat{\\phi_p}$\n",
        "\n",
        "5/ Confronto fra modelli gerarcici mediante la statistica LLR\n",
        "- analisi di Tipo I\n",
        "\n",
        "Siano $M_0, M_1$ due modelli GzLM gerarchici o nested tali che:\n",
        "\n",
        "- $M_0: g(\\mu_0)= \\eta_0=\\lambda \\beta_0$\n",
        "  - $\\beta_0: p_o*1$\n",
        "- $M_1: g(\\mu_1)= \\eta_1=\\lambda \\beta_1$\n",
        "  - $\\beta_1: p_1*1$\n",
        "\n",
        "$X_1= [X_0; X_1']$ e $\\beta_1= [\\beta_0; \\beta_1]^t$\n",
        "\n",
        "con $X_1^{'}: n*(p_1-p_0)$ e $\\beta_1^{'}: (p_1-p_0)*1$\n",
        "\n",
        "-> $g(\\mu_1)= X_0\\beta_0+ X_1^{'}\\beta_1^{'}$\n",
        "\n",
        "-> $M_0, M_1$ modelli nested $M_0 ⊂ M_1$\n",
        "\n",
        "\n",
        "- Stime dei Parametri di $M_0, M_1$:\n",
        "\n",
        "$\\hat{\\beta_0}$ stima ML di $\\beta_0-> L(\\hat{\\beta_0})$\n",
        "\n",
        "$\\hat{\\beta_1}$ stima ML di $\\beta_1-> L(\\hat{\\beta_1})$\n",
        "\n",
        "-> $L(\\hat{\\beta_1})\\ge L(\\hat{\\beta_o})$\n",
        "\n",
        "-> $l(\\hat{\\beta_1})\\ge l(\\hat{\\beta_o})$\n",
        "\n",
        "\n",
        "LLR: $2ln(\\Lambda)= 2[l(\\hat{B_1})- l(\\hat{B_0})]\\sim 'chi_{p_1-p_0}^2$\n",
        "- $H_0: GOF(M_1)= GOF(M_0)$\n",
        "\n",
        "\n",
        "Osservazione: se $M_0, M_1$ hanno lo stesso parametro $\\phi(\\phi=\\phi_0=\\phi_1):$\n",
        "\n",
        "$ΔD^*= D_0^*-D_1^*= \\\\frac{D_0-D_1}{\\phi}= 2[l(\\hat{\\beta_{max}})-(\\hat{\\beta_0})]- 2[l(\\hat{\\beta_{max}})-l(\\hat{\\beta_1})]= $\n",
        "\n",
        "$$= 2[l(\\hat{\\beta_1})-l(\\hat{\\beta_0})]= 2 ln(\\lambda)->$$\n",
        "\n",
        "$$-> 2ln(\\Lambda)= ::R$$\n",
        "\n",
        "Procedura per l'analisi di Tipo I\n",
        "- adattamento ai dati di modelli di complessita via via crescente\n",
        "- valutazione del contributo degli effetti aggiuntivi meidnate LLR\n",
        "\n",
        "\n",
        "Osservazione: se $\\phi$ non e' noto e' necessario ricorrere ad una sua stima\n",
        "- stimatore di $\\phi$ basato sulla scaled deviance:\n",
        "\n",
        "$$\\hat{\\Phi}= \\frac{D}{n-p}$$\n",
        "- p - si riferisce ai parametri nel modello usando per stimare $\\phi$. Di solito: $D=D_1$ e $p=p_1$\n",
        "\n",
        "Legge di distribuzione di $\\hat{\\Phi_D}$\n",
        "\n",
        "$$D^*=\\frac{D}{\\phi}\\sim \\chi_{n-p}^2$$\n",
        "- - $H_0: GOF(FMod)= GOF(SMod)$\n",
        "\n",
        "-> $D=\\phi D^* \\sim \\phi\\chi_{n-p}^2$\n",
        "  - - $H_0$\n",
        "\n",
        "-> $\\hat{\\Phi_D}= \\frac{D}{n-p}= \\frac{\\phi}{n-p}D^* \\sim \\chi_{n-p}^2 \\frac{\\phi}{n-p}$\n",
        "- $H_0:$ il modello considerato per la stima di $\\phi$ si adatta come il modello saturo\n",
        "\n",
        "$$LLR= \\delta D^* = \\frac{D_0-D_1}{\\phi} \\sim \\chi_{p_1-p_0}^2$$\n",
        "- - $H_0: GOF(M_1)= GOF(M_0)$\n",
        "\n",
        "\n",
        "-> $D_0-D_1 \\sim \\chi_{p_1-p_0}$\n",
        "- H_0\n",
        "\n",
        "\n",
        "Statistica test di Fiscer:\n",
        "\n",
        "$\\frac{D_0-D_1}{\\hat{\\Phi_D}}= \\frac{\\frac{\\phi \\chi_{p_1-p_0}}{p_1-p_0}  }{ \\frac{\\phi}{n-p}\\chi_{n-p}^2 }= \\frac{D_0-D_1}{(p_1-p_0)\\hat{\\Phi_D}}\\sim F_{p_1-p_o; n-p}$\n",
        "- $H_0: GOF(M_1)=GOF(M_0)$\n",
        "\n",
        "\n",
        "Poiche si verifica che $D_0-D_1$ e $\\hat{\\Phi}$ sono indipendenti stocasticamente (almeno in senso approssimato)\n",
        "\n",
        "Si procede in modo analogo per $\\hat{\\phi_p}$\n",
        "\n",
        "\n",
        "6. Analisi di Tipo III per la valutazione a margine degli effetti o dei parametri:\n",
        "\n",
        "\n",
        "Siano:\n",
        "\n",
        "$l(\\hat{\\beta})$ -> modello con tutti gli effetti\n",
        "\n",
        "$l(\\beta^{o*})$ -> modello che non contine l'effetto oggetto di valutazione\n",
        "\n",
        "-> $l(\\hat{\\beta})\\ge l(\\beta^{o*})$\n",
        "\n",
        "- $LLR= 2[l(\\hat{B})- l(B^{o*})]\\sim 'chi_q^2$\n",
        "  - $H_0$ l'effetto considerato non haalcun contributo\n",
        "\n",
        "  dove: g=gdl associati all effetto oggetto di valutazione\n",
        "\n",
        "  "
      ],
      "metadata": {
        "id": "j2_ADToliBu6"
      }
    },
    {
      "cell_type": "markdown",
      "source": [],
      "metadata": {
        "id": "YvQvJSbDiBw-"
      }
    },
    {
      "cell_type": "markdown",
      "source": [],
      "metadata": {
        "id": "4631Zr-eiBzS"
      }
    },
    {
      "cell_type": "markdown",
      "source": [],
      "metadata": {
        "id": "4h7E8rMxiB1r"
      }
    },
    {
      "cell_type": "markdown",
      "source": [],
      "metadata": {
        "id": "PrObeu83iB4B"
      }
    },
    {
      "cell_type": "markdown",
      "source": [],
      "metadata": {
        "id": "czhFMifwiB6k"
      }
    },
    {
      "cell_type": "markdown",
      "source": [],
      "metadata": {
        "id": "KDO09EgviB8z"
      }
    },
    {
      "cell_type": "markdown",
      "source": [],
      "metadata": {
        "id": "ELLkyVx3iB_v"
      }
    },
    {
      "cell_type": "markdown",
      "source": [],
      "metadata": {
        "id": "tIh9jSLtiCCA"
      }
    },
    {
      "cell_type": "markdown",
      "source": [],
      "metadata": {
        "id": "o6f3BshqiCEu"
      }
    },
    {
      "cell_type": "markdown",
      "source": [],
      "metadata": {
        "id": "2-MO0yjGiCHH"
      }
    },
    {
      "cell_type": "markdown",
      "source": [],
      "metadata": {
        "id": "kESPqD-MiCJ7"
      }
    },
    {
      "cell_type": "markdown",
      "source": [],
      "metadata": {
        "id": "duXXO5kziCMA"
      }
    },
    {
      "cell_type": "markdown",
      "source": [],
      "metadata": {
        "id": "IDmQSfxmiCOn"
      }
    },
    {
      "cell_type": "markdown",
      "source": [],
      "metadata": {
        "id": "I28zpO5biCQ7"
      }
    },
    {
      "cell_type": "markdown",
      "source": [],
      "metadata": {
        "id": "H37szSrhiCTU"
      }
    },
    {
      "cell_type": "markdown",
      "source": [],
      "metadata": {
        "id": "wB56eg58iCWB"
      }
    },
    {
      "cell_type": "markdown",
      "source": [],
      "metadata": {
        "id": "VdhDJGMTiC2K"
      }
    },
    {
      "cell_type": "markdown",
      "source": [],
      "metadata": {
        "id": "1EiUouOOiC40"
      }
    },
    {
      "cell_type": "markdown",
      "source": [],
      "metadata": {
        "id": "mJmBcRHaiC7S"
      }
    },
    {
      "cell_type": "markdown",
      "source": [],
      "metadata": {
        "id": "KKvnM1a5iC9u"
      }
    },
    {
      "cell_type": "markdown",
      "source": [],
      "metadata": {
        "id": "KY-NXBxCiDAL"
      }
    },
    {
      "cell_type": "markdown",
      "source": [],
      "metadata": {
        "id": "UOxn-YpXiDCu"
      }
    },
    {
      "cell_type": "markdown",
      "source": [],
      "metadata": {
        "id": "zx45Z2XyiDFJ"
      }
    },
    {
      "cell_type": "markdown",
      "source": [],
      "metadata": {
        "id": "_klMPiDaiDHq"
      }
    },
    {
      "cell_type": "markdown",
      "source": [],
      "metadata": {
        "id": "j3sL6BvfiDKP"
      }
    },
    {
      "cell_type": "markdown",
      "source": [],
      "metadata": {
        "id": "DUTKr_w1iDM5"
      }
    },
    {
      "cell_type": "markdown",
      "source": [],
      "metadata": {
        "id": "NeltHWuoiDPJ"
      }
    },
    {
      "cell_type": "markdown",
      "source": [],
      "metadata": {
        "id": "RJ1yQuNCiDRw"
      }
    },
    {
      "cell_type": "markdown",
      "source": [],
      "metadata": {
        "id": "lTyBfMLeiDUC"
      }
    },
    {
      "cell_type": "markdown",
      "source": [],
      "metadata": {
        "id": "RpWHgeoRiDWb"
      }
    },
    {
      "cell_type": "markdown",
      "source": [],
      "metadata": {
        "id": "lGcsQ-6JiDY_"
      }
    },
    {
      "cell_type": "markdown",
      "source": [],
      "metadata": {
        "id": "oypS_kTRiDbS"
      }
    },
    {
      "cell_type": "markdown",
      "source": [],
      "metadata": {
        "id": "uiOhFELriDgD"
      }
    },
    {
      "cell_type": "markdown",
      "source": [],
      "metadata": {
        "id": "bKBqzdXjiDio"
      }
    },
    {
      "cell_type": "markdown",
      "source": [],
      "metadata": {
        "id": "fy2UVWJviDk1"
      }
    },
    {
      "cell_type": "markdown",
      "source": [],
      "metadata": {
        "id": "TFfBL66RiDnz"
      }
    }
  ]
}