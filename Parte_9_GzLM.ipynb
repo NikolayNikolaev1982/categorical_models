{
  "nbformat": 4,
  "nbformat_minor": 0,
  "metadata": {
    "colab": {
      "provenance": [],
      "authorship_tag": "ABX9TyP6swcKXd158NMQXNI/1cOy",
      "include_colab_link": true
    },
    "kernelspec": {
      "name": "python3",
      "display_name": "Python 3"
    },
    "language_info": {
      "name": "python"
    }
  },
  "cells": [
    {
      "cell_type": "markdown",
      "metadata": {
        "id": "view-in-github",
        "colab_type": "text"
      },
      "source": [
        "<a href=\"https://colab.research.google.com/github/NikolayNikolaev1982/categorical_models/blob/main/Parte_9_GzLM.ipynb\" target=\"_parent\"><img src=\"https://colab.research.google.com/assets/colab-badge.svg\" alt=\"Open In Colab\"/></a>"
      ]
    },
    {
      "cell_type": "markdown",
      "source": [],
      "metadata": {
        "id": "Kqa6uZXtaeXS"
      }
    },
    {
      "cell_type": "markdown",
      "source": [],
      "metadata": {
        "id": "89OqgYwIaeZ-"
      }
    },
    {
      "cell_type": "markdown",
      "source": [],
      "metadata": {
        "id": "RYtMkmIzaecc"
      }
    },
    {
      "cell_type": "markdown",
      "source": [],
      "metadata": {
        "id": "4dF6UoKfaefB"
      }
    },
    {
      "cell_type": "markdown",
      "source": [],
      "metadata": {
        "id": "m0hC5tQ-aeh_"
      }
    },
    {
      "cell_type": "markdown",
      "source": [],
      "metadata": {
        "id": "kbsghzcJaelC"
      }
    },
    {
      "cell_type": "markdown",
      "source": [],
      "metadata": {
        "id": "oeEFx9qIaenO"
      }
    },
    {
      "cell_type": "markdown",
      "source": [],
      "metadata": {
        "id": "e-Erwbm4aep7"
      }
    },
    {
      "cell_type": "markdown",
      "source": [],
      "metadata": {
        "id": "t5mukE6baeu_"
      }
    },
    {
      "cell_type": "markdown",
      "source": [],
      "metadata": {
        "id": "B3T9Sw3Aaexq"
      }
    },
    {
      "cell_type": "markdown",
      "source": [],
      "metadata": {
        "id": "ZrZj40TOae0R"
      }
    },
    {
      "cell_type": "markdown",
      "source": [],
      "metadata": {
        "id": "6Vrv9NdRae22"
      }
    },
    {
      "cell_type": "markdown",
      "source": [],
      "metadata": {
        "id": "o3fAaTjYae5o"
      }
    },
    {
      "cell_type": "markdown",
      "source": [],
      "metadata": {
        "id": "KWzvsgNhae8G"
      }
    },
    {
      "cell_type": "markdown",
      "source": [],
      "metadata": {
        "id": "WQXinRZgae-y"
      }
    },
    {
      "cell_type": "markdown",
      "source": [],
      "metadata": {
        "id": "VxRnWZFaafBT"
      }
    },
    {
      "cell_type": "markdown",
      "source": [],
      "metadata": {
        "id": "3E3EBg-XafD0"
      }
    },
    {
      "cell_type": "markdown",
      "source": [],
      "metadata": {
        "id": "jdNbLFKuafGR"
      }
    },
    {
      "cell_type": "markdown",
      "source": [],
      "metadata": {
        "id": "ImGYNTAqafJH"
      }
    },
    {
      "cell_type": "markdown",
      "source": [],
      "metadata": {
        "id": "zA7nIZVnafLy"
      }
    },
    {
      "cell_type": "markdown",
      "source": [],
      "metadata": {
        "id": "idQX3bW9afOZ"
      }
    },
    {
      "cell_type": "markdown",
      "source": [],
      "metadata": {
        "id": "Xbg_fy6RafQ8"
      }
    },
    {
      "cell_type": "markdown",
      "source": [],
      "metadata": {
        "id": "NRhyBI_XafTh"
      }
    },
    {
      "cell_type": "markdown",
      "source": [],
      "metadata": {
        "id": "gqoLuoQ_afWe"
      }
    },
    {
      "cell_type": "markdown",
      "source": [],
      "metadata": {
        "id": "j1PqeO15afZK"
      }
    },
    {
      "cell_type": "markdown",
      "source": [
        "# Video 1\n",
        "# GzLM - Genralized Linear Models\n",
        "\n",
        "Nel ambito degli obietti del corsi si considera:\n",
        "- Y - var dipendente\n",
        "  - qualitativa p catgoriale\n",
        "  - quantitativa dicreta\n",
        "\n",
        "- GzLM in ottica di GLM\n",
        "\n",
        "Nei GzLM si aassume che Y abbia legge di ditribuzione appartanente alla classe di distribuzione della FAMIGLIA ESPONENZIALE - FE\n",
        "\n",
        "Def.di Famiglia Eponenziale: coso uniparametrico: sia Y una v.c. discreta o continua. Si dice che Y ha legge di distribuizione appartenente alla FE se la forma della legge di distribuzione rientra nella seguente forma generale:\n",
        "\n",
        "$$f(y; \\theta, ϕ)= exp[\\frac{y\\theta-b(\\theta)}{a(\\theta)}+c(y; \\theta)]\\tag{*}$$\n",
        "\n",
        "La forma (*) denota:\n",
        "- $\\phi$ noto: FE in forma canonica o naturale\n",
        "  - $\\theta \\in H^* \\subseteq R$\n",
        "- $\\phi$ non noto: modello di dispersione esponenziale\n",
        "  - $\\phi \\in \\Phi ⊆ R^+$\n",
        "\n",
        "- a(.), b(,), c(.) sono funzioni di forma nota nei rispetivi argomenti:\n",
        "\n",
        "Di soluto:\n",
        "$$a(\\phi)= \\frac{\\phi}{w}$$\n",
        "- dove: $w> 0$ e' un peso\n",
        "\n",
        "\n",
        "### Proprieta principale della FE\n",
        "Sotto condizioni di regolarita le FE generalmente soddisfate\n",
        "- $b(\\theta)$ derivabile almeno due volte in $\\theta$\n",
        "- $b^{'}(\\theta)= \\frac{db\\theta}{d\\theta}$ invertibile\n",
        "- $\\mathcal{H}$ insime convesso\n",
        "  - [$\\mathcal{H}$ e' insieme convesso se: $t\\theta+(1-t)\\theta' \\in \\mathcal{H}$\n",
        "  $ogni-t \\in [0,1]$ , ogni $\\theta$, $\\theta^{'}\\in \\mathcal{H} ⊆ R$]\n",
        "\n",
        "Valgono:\n",
        "1. $E[Y]= \\mu=\\mu(\\theta)= \\frac{db(\\theta)}{d\\theta}= b^{'}(\\theta)$\n",
        "\n",
        "2. $Var[Y]= \\frac{d^2b(\\theta)}{d\\theta^2}a(\\phi)= b^{''}(\\theta)a (\\theta)= \\frac{d\\mu(\\theta)}{d\\theta}a(\\phi)$\n",
        "\n",
        "Osservazione: $\\frac{d\\mu(\\theta)}{d\\theta}= V(\\mu)$ e' detta VF- Variance Function\n",
        "\n",
        "Inoltre vale: $\\frac{d\\theta(\\mu)}{d\\mu}= \\frac{1}{V(\\mu)}$\n",
        "\n",
        "Esempio: v.c. Poisson\n",
        "\n",
        "$$Y\\sim Poin(\\lambda), \\lambda>0, y=0,1,2...$$\n",
        "\n",
        "Legge di distribuzione:\n",
        "\n",
        "$$f(y; \\lambda)= \\frac{\\lambda^y e^{-\\lambda}}{y!}$$\n",
        "\n",
        "\n",
        "-----------------\n",
        "Richiamo: fattoriale di y: $y!= y(y-1)(y-1)...1$\n",
        "\n",
        "Per convenzione: $0!= 1$\n",
        "\n",
        "---------------\n",
        "\n",
        "Rientra nella forma (*)\n",
        "\n",
        "$$f(y;\\lambda)= exp[ln(f((y,\\lambda))= exp[y.ln(\\lambda)-\\lambda - ln(y!)]]$$\n",
        "\n",
        "dove:\n",
        "- $\\theta= \\theta(\\lambda)= ln(\\lambda)$\n",
        "  - $\\lambda=\\lambda(\\theta)= e^{\\theta}$\n",
        "\n",
        "- $b(\\theta)= \\lambda= \\lambda(\\theta)= e^{\\theta}$\n",
        "- $a(\\phi)=1$\n",
        "- $c(y;\\phi)= -ln(y!)$\n",
        "\n",
        "$$E[Y]=\\mu=\\frac{db(\\theta)}{d\\theta}= \\frac{d\\lambda(\\theta)}{d\\theta}= \\frac{d[e^{\\theta}]}{d\\theta}= e^{\\theta}=\\lambda$$\n",
        "\n",
        "$$ Var[Y]= a(\\phi)V(\\mu)= V(\\mu)= \\frac{d^2b(\\theta)}{d\\theta^2}= $$\n",
        "- $a(\\phi)=1$\n",
        "$$ \\frac{d\\mu(\\theta)}{d\\theta}= \\frac{d[e^{\\theta}]}{d\\theta}= e^{\\theta}= \\lambda$$\n",
        "\n",
        "Osservazione: si e' otenuta la caraterristica fondamentale della v.c. di Poisson:\n",
        "\n",
        "$$E[Y]= Var[Y]= \\lambda$$"
      ],
      "metadata": {
        "id": "3qbviH28afbw"
      }
    },
    {
      "cell_type": "markdown",
      "source": [
        "## Modelli GzLM\n",
        "tra componenti alla base della specificazione\n",
        "- componente casuale data dalla v.c. $Y \\in FE$ cioe con legge di distribuzione in FE\n",
        "- componente sistemantica o deterministica data della var. esplicative\n",
        "- Link Function: funzione legame che mette in relazione la comonente casuale con la componente deteministica\n",
        "\n",
        "### Strutura Formale di Specificazione del GzLM\n",
        "Punto di partenza: comapione casuale di ampiezza pari a n con estrazioni indipendenti\n",
        "\n",
        "Allora:\n",
        "1. V.c $Y_i$ per descrivere il risultato alla i-esima estrazione campionaria i=1..n\n",
        "\n",
        "v.c. organizzate nel vettore:\n",
        "\n",
        "$Y_{n*1}=[Y_1...U_i...Y_n]^t$\n",
        "- a n componenti fra loro indipendenti in senso distributivo o stocastico\n",
        "\n",
        "2. v.c. $Y_i \\in FE$ con stessa legge di distribuzione\n",
        "\n",
        "$$f(y_i; \\theta_i; \\phi)= exp[\\frac{y_i\\theta_i - b(\\theta_i)}{a\\phi)}+ c(y_i; \\phi)]$$\n",
        "- ogni i=1...n\n",
        "\n",
        "3. Insieme di K var esplicative:\n",
        "\n",
        "$X_1...X_j...X_k$ (quantitative e\\o categoriali)\n",
        "- valori organizzati nella matrice disegno (o dei coefficienti) del modello $X_{n*p}$ con p=num.totale di parametri\n",
        "\n",
        "Rango di X\n",
        "- $X_j$ tutte quantitative\n",
        "\n",
        "$p=k+1$ e $rank(X)= p=k+1$\n",
        "- X ha rango colonna pieno\n",
        "\n",
        "- negli altri casi (in approcio GLm) rank(X)< p\n",
        "\n",
        "-> quindi , in generale: $rank(X) \\le p$\n",
        "\n",
        "-> strutura di X : accostamento per  riga dei vettori p-dimensionali $x_i^t$, i=1..n\n",
        "\n",
        "\n",
        "$X_{n*p}= [x_1^t...x_i^t...x_n^t]$\n",
        "- $x_i^t=[1, x_{i1}, ....x_{ij}.....x_{i,p-1}]$\n",
        "- ogni i=1...n\n",
        "\n"
      ],
      "metadata": {
        "id": "GpjtOxiQafee"
      }
    },
    {
      "cell_type": "markdown",
      "source": [
        "4. Preditore lineare:\n",
        "\n",
        "$\\eta= x_{1*p}^t\\beta_{p*1}= \\beta_0 +\\sum_{j=1}^{p-1}\\beta_j x_j$\n",
        "\n",
        "dove:\n",
        "\n",
        "$\\beta_{p*1}= [\\beta_0,\\beta_1...\\beta_j, ...\\beta_{p-1}]$ vettore di parametri ignoti\n",
        "\n",
        "$x^t=[1, x_1...x_j...x_{p-1}]$\n",
        "\n",
        "sulla i-essima u.s.\n",
        "\n",
        "$\\eta_i=x_i^t \\beta$\n",
        "- ogni i=1..n\n",
        "\n",
        "5. Link unction: LF\n",
        "\n",
        "equazione del GzLM espressa in termini lineari\n",
        "\n",
        "$$g(\\mu)= \\eta=   x^t\\beta$$\n",
        "- dove $\\mu=E[Y]$\n",
        "\n",
        "Sulla i-essima u.s.\n",
        "\n",
        "$$$g(\\mu_i)= \\eta_i=x_i^t\\beta$ i=1...n\n",
        "\n",
        "dove: $\\mu_i= E[Y_i]$ ogni i\n",
        "\n",
        "Se g(.) e' funzione monotona , continua e derivabile allora esiste la f.inversa $g(.)^{-1}$ Inversa LInk Function -ILF\n",
        "\n",
        "$$\\mu_i= g(\\eta_i)^{-1}= g^{-1}(x_i^t\\beta)$$\n",
        "- ogni i =1..n\n",
        "\n",
        "equazione del GzLM nonlineare\n",
        "\n",
        "6. $Var[Y_i]= $ e funzione di $\\mu_i=E[Y_i]$\n",
        "\n",
        "[$Var(Y_i)= a(\\phi)V(\\mu_i)$] i=1...n\n",
        "- i GzLM sono per loro natura modelli eteroscedastici\n",
        "\n",
        "Esempio di LF: $g(\\mu_i)= \\eta_i= x_i^t\\beta$ ogni i\n",
        "\n",
        "1. Identity Link\n",
        "\n",
        "$$\\mu_i= \\eta_i=x_i^t\\beta$$ ogni i\n",
        "- modello lineare co errori eteroscedastici\n",
        "\n",
        "2. Canonical Link\n",
        "\n",
        "$$\\theta_i= \\eta_i= x_i^t\\beta$$ ogni i\n",
        "- parametro canonico discerito mediante il legame lineare con le var. esplicative\n",
        "\n",
        "Esempio: $Y_i\\sim Poisson(\\lambda_i)$ i=1..n\n",
        "\n",
        "$\\theta_i=ln(\\lambda_i)$ parametro canonico\n",
        "\n",
        "equazione del GzLM mediante LF canonica\n",
        "\n",
        "$$\\theta_i= ln(\\lambda_i)= x_i^t\\beta$$ ogni i\n",
        "- modello lineare\n",
        "Modello log-lineare i di Poisson, per dati di conteggio\n",
        "\n",
        "$\\lambda_i=exp(x_i^t\\beta)$ ogni i\n",
        "- modello moltiplicativo\n",
        "\n",
        "\n",
        "\n"
      ],
      "metadata": {
        "id": "9t1Dr_p6afhD"
      }
    },
    {
      "cell_type": "markdown",
      "source": [
        "# Video 2\n",
        "\n",
        "### Specificazione del GzLM in forma matricale\n",
        "\n",
        "- $Y_{n*1}= [Y_1...Y_i...Y_n]^t $ vet. casuale raltivo alla var.dip Y\n",
        "\n",
        "- $\\mu_{n*1}=[\\mu_1...\\mu_i ...\\mu_n]^t= E[Y]$ vet dei valori attessi di Y\n",
        "\n",
        "- $\\eta= (\\eta_1...\\eta_i...\\eta_n)^t$ vet.dei predittori lineari\n",
        "\n",
        "Eq. del GzLM\n",
        "\n",
        "$$\\eta_{n*1}= X_{n*p}\\beta_{p*1}-> g(\\mu)= \\eta=X\\beta$$\n",
        "\n",
        "dove: $g(\\mu)= [g(\\mu_1)...g(\\mu_n)]^t$\n",
        "\n",
        "\n",
        "Matrice di vari-covari di Y:\n",
        "\n",
        "$Var[Y_i]= a(\\phi)V(\\mu_i)$ ogni i\n",
        "\n",
        "Siano:\n",
        "- $V_{n*1}(\\mu)= [V(\\mu_1)...C_{\\mu_n}]^t$ vettore delle funcioni di varianza\n",
        "\n",
        "- $Var_{n*1}(Y)= [Var(Y_1)...Var(Y_n)]^t= a(\\phi)V(\\mu)$ vet.delle varianze delle v.c. Y_i\n",
        "\n",
        "Matrice di var-cov di Y:\n",
        "\n",
        "$V(Y)=diag(Var[Y])= diag(a(\\phi)V(\\mu))= \\begin{bmatrix}\n",
        "a(\\phi)V(\\mu_1) & ...& 0 &....& 0 \\\\\n",
        "... & ...& .... &....& ... \\\\\n",
        "0 & ...& a(\\phi)V(\\mu_i) &....& 0 \\\\\n",
        "... & ...& .... &....& ... \\\\\n",
        "0 & ...& 0 &....& a(\\phi)V(\\mu_n) \\\\\n",
        "\\end{bmatrix}$\n",
        "\n",
        "\n",
        "Osservazione $V(Y)$ ha la struttura di una matrice di var-cov relativa a componenti casuali incorelate ed eteroscedastiche\n",
        "\n",
        "$Var(Y_i)= a(\\phi)V(\\mu_i)$ con $\\mu_i= g^{-1}(x_i^t\\beta)$ ogni i\n",
        "- $Var[Y_i]$ dipende dalle var.esplicative attraverso la ILF\n",
        "\n",
        "### Problem della stima di $\\beta$\n",
        "Relazione che sussite i vari parametri:\n",
        "- $\\eta_i=x_i^t\\beta$ dipende da $\\beta$ ogni i\n",
        "- $\\mu_i$ dipende da $\\eta_i$ attraverso la ILF $g^{-1}:\\mu_i=g^{-1}(\\eta_i)$ ogni i\n",
        "- $\\theta_i$ dipende da $\\mu_i$ attraverso la legge di distribuzione di $Y_i$ in FE, ogni i\n",
        "$$f(y_i; \\theta_i; \\phi)= f(y_i; \\theta_i)$$\n",
        "- se $\\phi$ e' noto viene trattato come parametri di disturbo\n",
        "\n",
        "Approcio di stima considerato: Metodo della Maximum Likelihood\n",
        "\n",
        "\n"
      ],
      "metadata": {
        "id": "B9VVgDq-afj_"
      }
    },
    {
      "cell_type": "markdown",
      "source": [
        "### Funzione di Likelihood\n",
        "\n",
        "$$L(\\beta|y)=L(\\beta)= L(\\theta)= \\prod_{i=1}^b f(y_i; \\theta_i)$$\n",
        "- $\\theta_{n*1}= (\\theta_1..\\theta_n)^t$\n",
        "\n",
        "Funzione di Log-Likelihood\n",
        "\n",
        "$$l=l(\\beta|y)= l(\\beta)=l(\\theta)=ln(L)= ln(\\prod_{i=1}^b f(y_i; \\theta_i))= \\prod_{i=1}^n ln(f(y_i, \\theta_i))$$\n",
        "- $l_i(\\theta_i)= ln(f(y_i, \\theta_i))$ contributo i-essimo alla f. log-likelihood\n",
        "\n",
        "$$= \\sum_{i=1}^n l_i(\\theta_i)$$\n",
        "\n",
        "Contributo i-essimo: $l_i=l_i(\\theta_i)=l_i(\\theta_i|y_i)$\n",
        "\n",
        "dove:\n",
        "- $l_i(\\theta_i|y_i)= \\frac{y_i\\theta_i -b(\\theta_i)}{a(\\phi)}+c(y_i; \\phi)$\n",
        "\n",
        "- ogni i =1...n\n",
        "\n",
        "Funzione score: o vettore score o gradiente\n",
        "\n",
        "$$u(\\beta)= \\frac{∂l(\\beta)}{∂\\beta}\\frac{∂}{∂\\beta}[\\sum_i l_i (\\theta_i|y_i)]= \\sum_{i=1}^n \\frac{∂}{∂\\beta}[l_i(\\theta_i|y_i)]=$$\n",
        "\n",
        "$$\\sum_i [\\frac{∂ l_i(\\theta_i)}{ϐ\\theta_i}. \\frac{∂\\theta_i}{∂\\mu_i}.\\frac{∂\\mu_i}{∂\\eta_i}.\\frac{∂\\eta_i}{∂\\beta}]= $$\n",
        "\n",
        "1. $\\frac{∂ l_i(\\theta_i)}{ϐ\\theta_i}$\n",
        "$$= \\frac{∂}{∂\\theta_i}[\\frac{y_i\\theta_i - b(\\theta_i)}{a(\\phi)}+c(y_i; \\phi)]= \\frac{1}{a(\\phi)}\\frac{∂}{∂\\theta_i}[y_i-b(\\theta_i)]= $$\n",
        "\n",
        "$$= \\frac{1}{a(\\phi)}(y_i-\\mu_i)$$\n",
        "$[\\frac{∂ b(\\theta_i)}{∂ \\theta_i}= \\mu_i]$\n",
        "\n",
        "\n",
        "2. $\\frac{∂\\theta_i}{∂\\mu_i}$\n",
        "\n",
        "$$\\frac{ 1}{V(\\mu_i) } $$ ogni i\n",
        "\n",
        "\n",
        "3. $\\frac{∂\\eta_i}{∂\\beta}$\n",
        "\n",
        "$$= \\frac{\\partial}{∂\\beta}(x_i^t\\beta)= x_i$$ ogni i\n",
        "\n",
        "\n",
        "-> Funzione score diventa:\n",
        "\n",
        "$$\\mu(\\beta)= \\frac{∂ l(\\beta)}{∂(\\beta)}= \\sum_{i=1}^n \\frac{y_i-\\mu_i}{a(\\phi)}\\frac{1}{V(\\mu_i)}\\frac{∂ \\mu_i}{∂ \\eta_i}x_i= $$\n",
        "\n",
        "$$= sum_{i=1}^n \\frac{y_i-\\mu_i}{Var[Y_i]}\\frac{∂ \\mu_i}{∂ \\eta_i}x_i= 0_p $$\n",
        "\n",
        "Carateristiche:\n",
        "- sistema di equazioni score di Max Likelihood - ML socrre equations\n",
        "- in generale , non e' possibile esplicitare la soluzione ML per il vetore $\\beta$\n",
        "- si ricore a metodi iterativi numerici\n",
        "  - i piu popolari sono\n",
        "    - metodo di Newton Raphson\n",
        "    - metodo di Fisher scorring\n",
        "\n",
        "\n",
        "Stima ML per $\\beta$:\n",
        "\n",
        "La soluzione al sistema di equazioni otteenuta per via numerica e' considerata stima ML per $\\beta$\n",
        "\n",
        "Quindi: $\\hat{\\beta}^{ML}= \\hat{\\beta}$ sitma ML come soluzione numerica\n",
        "\n",
        "Al variare del campione:\n",
        "\n",
        "$\\hat{\\beta^{ML}}-> \\hat{B^{ML}}$ stimatore ML\n",
        "\n",
        "La proprieta dello stimatore ML sono di fatto proprieta asintotiche (valgono per $n->∞$)\n",
        "\n",
        "Inferenza assintotica:\n",
        "\n"
      ],
      "metadata": {
        "id": "O4fNaVD8afmi"
      }
    },
    {
      "cell_type": "markdown",
      "source": [
        "Proprieta dello Stimatore ML\n",
        "- proprieta asintotiche- valide se tutti gli assunti dello specifico GzLM sono verificati\n",
        "\n",
        "$\\hat{B_n^{ML}}= \\hat{B_n}$ stimatore ML p-dimensionale cotruito con un ampiezza campionaria pari a n\n",
        "\n",
        "1. $\\hat{B_n}$ e' assintoticamente corretto per $\\beta$\n",
        "$$lim_{n->\\infty} E(\\hat{B_n})= \\beta$$\n",
        "- ogni $\\beta$\n",
        "\n",
        "2. Matrice di var-cov asintotica:\n",
        "\n",
        "$$V_{p*p}(\\hat{B})= \\mathcal{F}^{-1}= (X_{p*1}^tW_{n*n}X_{n*p})^{-1}$$\n",
        "- $\\mathcal{F}$ matrice di informazione attesa di Fisher\n",
        "\n",
        "Matrice W:\n",
        "\n",
        "$V_y= V(Y)-> W=DV_y^{-1}D$\n",
        "- $D- diag[\\frac{∂ \\mu_1}{∂ \\eta_1}].. \\frac{∂ \\mu_i}{∂ \\eta_i}]... \\frac{∂ \\mu_n}{∂ \\eta_n}]$\n",
        "\n",
        "Osservazione: sulla esistenza della inversa di $\\mathcal{F}$\n",
        "\n",
        "$∃ \\mathcal{F}^{-1} <-> ∃ (X^tWX)^{-1}<-> rank(X^tWX)=p<-> rank(X)=p$\n",
        "\n",
        "\n",
        "Se rank(X)=p due approci:\n",
        "1. aprocio GLM\n",
        "  - funzioni stimabili\n",
        "  - g-inversa $\\mathcal{F}$\n",
        "\n",
        "$$V(\\hat{B})= \\mathcal{F}^{-}= (X^tWX)^{-}$$\n",
        "\n",
        "Oss: $\\hat{B}$ non e' uno stimatore. E; la famigia aleatoria di infiniti soluzioni per $\\beta$\n",
        "\n",
        "2. Approcio vincolato\n",
        "\n",
        "- introdurre tanti vincolati quante sono le unita rango perso: p-rank(X)\n",
        "- in analogia al metodo COLS\n",
        "\n",
        "3. $\\hat{B_n}$ e' consistente per $\\beta$\n",
        "\n",
        "$\\hat{B_n}= (\\hat{B_{0;n}}, \\hat{B_{1;n}}...\\hat{B_{j;n}})...\\hat{B_{p-1;n}})^t$\n",
        "\n",
        "$$lim_{n->\\infty}P[|\\hat{B_{j;n}})- \\beta_j| < \\epsilon]=1$\n",
        "- $\\epsilon > 0$ piccolo a piacere, ogni j=1..., p-1\n",
        "\n",
        "oppure:\n",
        "\n",
        "$plim_{n->\\infty}\\hat{B_n}=\\beta$ ogni $\\beta$\n",
        "- convergenza in probabilita di $\\hat{B_n}$ a $\\beta$\n",
        "\n",
        "4. $\\hat{B_n}$ e'asintoticamente normale\n",
        "\n",
        "$$\\hat{B_n}\\sim N_p[\\beta; V(\\hat{B})]$$\n",
        "- e' assingtoticamnete efficente\n",
        "\n",
        "- gli stimatori $\\hat{B_{j,n}}$ hanno varianza asintotica minima nella classe degli stimatori consistenti e asintoticamente normali\n",
        "\n",
        "\n",
        "\n",
        "\n"
      ],
      "metadata": {
        "id": "Ld5MRhC6afpB"
      }
    },
    {
      "cell_type": "markdown",
      "source": [],
      "metadata": {
        "id": "xHfBSZ1uafrl"
      }
    },
    {
      "cell_type": "markdown",
      "source": [],
      "metadata": {
        "id": "-O1evypoafuS"
      }
    },
    {
      "cell_type": "markdown",
      "source": [],
      "metadata": {
        "id": "Lg-3ZF32afwf"
      }
    },
    {
      "cell_type": "markdown",
      "source": [],
      "metadata": {
        "id": "LGoAqzBMafzM"
      }
    },
    {
      "cell_type": "markdown",
      "source": [],
      "metadata": {
        "id": "JQaQfvwEaf1o"
      }
    },
    {
      "cell_type": "markdown",
      "source": [],
      "metadata": {
        "id": "vGBhVm9Paf4G"
      }
    },
    {
      "cell_type": "markdown",
      "source": [],
      "metadata": {
        "id": "tMg_ydLlaf6a"
      }
    },
    {
      "cell_type": "markdown",
      "source": [],
      "metadata": {
        "id": "tXlJH9JJaj8B"
      }
    }
  ]
}