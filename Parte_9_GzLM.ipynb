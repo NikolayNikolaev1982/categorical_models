{
  "nbformat": 4,
  "nbformat_minor": 0,
  "metadata": {
    "colab": {
      "provenance": [],
      "authorship_tag": "ABX9TyNtW4lbAjfD9TRyKNiCUHpO",
      "include_colab_link": true
    },
    "kernelspec": {
      "name": "python3",
      "display_name": "Python 3"
    },
    "language_info": {
      "name": "python"
    }
  },
  "cells": [
    {
      "cell_type": "markdown",
      "metadata": {
        "id": "view-in-github",
        "colab_type": "text"
      },
      "source": [
        "<a href=\"https://colab.research.google.com/github/NikolayNikolaev1982/categorical_models/blob/main/Parte_9_GzLM.ipynb\" target=\"_parent\"><img src=\"https://colab.research.google.com/assets/colab-badge.svg\" alt=\"Open In Colab\"/></a>"
      ]
    },
    {
      "cell_type": "markdown",
      "source": [],
      "metadata": {
        "id": "Kqa6uZXtaeXS"
      }
    },
    {
      "cell_type": "markdown",
      "source": [],
      "metadata": {
        "id": "89OqgYwIaeZ-"
      }
    },
    {
      "cell_type": "markdown",
      "source": [],
      "metadata": {
        "id": "RYtMkmIzaecc"
      }
    },
    {
      "cell_type": "markdown",
      "source": [],
      "metadata": {
        "id": "4dF6UoKfaefB"
      }
    },
    {
      "cell_type": "markdown",
      "source": [],
      "metadata": {
        "id": "m0hC5tQ-aeh_"
      }
    },
    {
      "cell_type": "markdown",
      "source": [],
      "metadata": {
        "id": "kbsghzcJaelC"
      }
    },
    {
      "cell_type": "markdown",
      "source": [],
      "metadata": {
        "id": "oeEFx9qIaenO"
      }
    },
    {
      "cell_type": "markdown",
      "source": [],
      "metadata": {
        "id": "e-Erwbm4aep7"
      }
    },
    {
      "cell_type": "markdown",
      "source": [],
      "metadata": {
        "id": "t5mukE6baeu_"
      }
    },
    {
      "cell_type": "markdown",
      "source": [],
      "metadata": {
        "id": "B3T9Sw3Aaexq"
      }
    },
    {
      "cell_type": "markdown",
      "source": [],
      "metadata": {
        "id": "ZrZj40TOae0R"
      }
    },
    {
      "cell_type": "markdown",
      "source": [],
      "metadata": {
        "id": "6Vrv9NdRae22"
      }
    },
    {
      "cell_type": "markdown",
      "source": [],
      "metadata": {
        "id": "o3fAaTjYae5o"
      }
    },
    {
      "cell_type": "markdown",
      "source": [],
      "metadata": {
        "id": "KWzvsgNhae8G"
      }
    },
    {
      "cell_type": "markdown",
      "source": [],
      "metadata": {
        "id": "WQXinRZgae-y"
      }
    },
    {
      "cell_type": "markdown",
      "source": [],
      "metadata": {
        "id": "VxRnWZFaafBT"
      }
    },
    {
      "cell_type": "markdown",
      "source": [],
      "metadata": {
        "id": "3E3EBg-XafD0"
      }
    },
    {
      "cell_type": "markdown",
      "source": [],
      "metadata": {
        "id": "jdNbLFKuafGR"
      }
    },
    {
      "cell_type": "markdown",
      "source": [],
      "metadata": {
        "id": "ImGYNTAqafJH"
      }
    },
    {
      "cell_type": "markdown",
      "source": [],
      "metadata": {
        "id": "zA7nIZVnafLy"
      }
    },
    {
      "cell_type": "markdown",
      "source": [],
      "metadata": {
        "id": "idQX3bW9afOZ"
      }
    },
    {
      "cell_type": "markdown",
      "source": [],
      "metadata": {
        "id": "Xbg_fy6RafQ8"
      }
    },
    {
      "cell_type": "markdown",
      "source": [],
      "metadata": {
        "id": "NRhyBI_XafTh"
      }
    },
    {
      "cell_type": "markdown",
      "source": [],
      "metadata": {
        "id": "gqoLuoQ_afWe"
      }
    },
    {
      "cell_type": "markdown",
      "source": [],
      "metadata": {
        "id": "j1PqeO15afZK"
      }
    },
    {
      "cell_type": "markdown",
      "source": [
        "# Video 1\n",
        "# GzLM - Genralized Linear Models\n",
        "\n",
        "Nel ambito degli obietti del corsi si considera:\n",
        "- Y - var dipendente\n",
        "  - qualitativa p catgoriale\n",
        "  - quantitativa dicreta\n",
        "\n",
        "- GzLM in ottica di GLM\n",
        "\n",
        "Nei GzLM si aassume che Y abbia legge di ditribuzione appartanente alla classe di distribuzione della FAMIGLIA ESPONENZIALE - FE\n",
        "\n",
        "Def.di Famiglia Eponenziale: coso uniparametrico: sia Y una v.c. discreta o continua. Si dice che Y ha legge di distribuizione appartenente alla FE se la forma della legge di distribuzione rientra nella seguente forma generale:\n",
        "\n",
        "$$f(y; \\theta, ϕ)= exp[\\frac{y\\theta-b(\\theta)}{a(\\theta)}+c(y; \\theta)]\\tag{*}$$\n",
        "\n",
        "La forma (*) denota:\n",
        "- $\\phi$ noto: FE in forma canonica o naturale\n",
        "  - $\\theta \\in H^* \\subseteq R$\n",
        "- $\\phi$ non noto: modello di dispersione esponenziale\n",
        "  - $\\phi \\in \\Phi ⊆ R^+$\n",
        "\n",
        "- a(.), b(,), c(.) sono funzioni di forma nota nei rispetivi argomenti:\n",
        "\n",
        "Di soluto:\n",
        "$$a(\\phi)= \\frac{\\phi}{w}$$\n",
        "- dove: $w> 0$ e' un peso\n",
        "\n",
        "\n",
        "### Proprieta principale della FE\n",
        "Sotto condizioni di regolarita le FE generalmente soddisfate\n",
        "- $b(\\theta)$ derivabile almeno due volte in $\\theta$\n",
        "- $b^{'}(\\theta)= \\frac{db\\theta}{d\\theta}$ invertibile\n",
        "- $\\mathcal{H}$ insime convesso\n",
        "  - [$\\mathcal{H}$ e' insieme convesso se: $t\\theta+(1-t)\\theta' \\in \\mathcal{H}$\n",
        "  $ogni-t \\in [0,1]$ , ogni $\\theta$, $\\theta^{'}\\in \\mathcal{H} ⊆ R$]\n",
        "\n",
        "Valgono:\n",
        "1. $E[Y]= \\mu=\\mu(\\theta)= \\frac{db(\\theta)}{d\\theta}= b^{'}(\\theta)$\n",
        "\n",
        "2. $Var[Y]= \\frac{d^2b(\\theta)}{d\\theta^2}a(\\phi)= b^{''}(\\theta)a (\\theta)= \\frac{d\\mu(\\theta)}{d\\theta}a(\\phi)$\n",
        "\n",
        "Osservazione: $\\frac{d\\mu(\\theta)}{d\\theta}= V(\\mu)$ e' detta VF- Variance Function\n",
        "\n",
        "Inoltre vale: $\\frac{d\\theta(\\mu)}{d\\mu}= \\frac{1}{V(\\mu)}$\n",
        "\n",
        "Esempio: v.c. Poisson\n",
        "\n",
        "$$Y\\sim Poin(\\lambda), \\lambda>0, y=0,1,2...$$\n",
        "\n",
        "Legge di distribuzione:\n",
        "\n",
        "$$f(y; \\lambda)= \\frac{\\lambda^y e^{-\\lambda}}{y!}$$\n",
        "\n",
        "\n",
        "-----------------\n",
        "Richiamo: fattoriale di y: $y!= y(y-1)(y-1)...1$\n",
        "\n",
        "Per convenzione: $0!= 1$\n",
        "\n",
        "---------------\n",
        "\n",
        "Rientra nella forma (*)\n",
        "\n",
        "$$f(y;\\lambda)= exp[ln(f((y,\\lambda))= exp[y.ln(\\lambda)-\\lambda - ln(y!)]]$$\n",
        "\n",
        "dove:\n",
        "- $\\theta= \\theta(\\lambda)= ln(\\lambda)$\n",
        "  - $\\lambda=\\lambda(\\theta)= e^{\\theta}$\n",
        "\n",
        "- $b(\\theta)= \\lambda= \\lambda(\\theta)= e^{\\theta}$\n",
        "- $a(\\phi)=1$\n",
        "- $c(y;\\phi)= -ln(y!)$\n",
        "\n",
        "$$E[Y]=\\mu=\\frac{db(\\theta)}{d\\theta}= \\frac{d\\lambda(\\theta)}{d\\theta}= \\frac{d[e^{\\theta}]}{d\\theta}= e^{\\theta}=\\lambda$$\n",
        "\n",
        "$$ Var[Y]= a(\\phi)V(\\mu)= V(\\mu)= \\frac{d^2b(\\theta)}{d\\theta^2}= $$\n",
        "- $a(\\phi)=1$\n",
        "$$ \\frac{d\\mu(\\theta)}{d\\theta}= \\frac{d[e^{\\theta}]}{d\\theta}= e^{\\theta}= \\lambda$$\n",
        "\n",
        "Osservazione: si e' otenuta la caraterristica fondamentale della v.c. di Poisson:\n",
        "\n",
        "$$E[Y]= Var[Y]= \\lambda$$"
      ],
      "metadata": {
        "id": "3qbviH28afbw"
      }
    },
    {
      "cell_type": "markdown",
      "source": [
        "## Modelli GzLM\n",
        "tra componenti alla base della specificazione\n",
        "- componente casuale data dalla v.c. $Y \\in FE$ cioe con legge di distribuzione in FE\n",
        "- componente sistemantica o deterministica data della var. esplicative\n",
        "- Link Function: funzione legame che mette in relazione la comonente casuale con la componente deteministica\n",
        "\n",
        "### Strutura Formale di Specificazione del GzLM\n",
        "Punto di partenza: comapione casuale di ampiezza pari a n con estrazioni indipendenti\n",
        "\n",
        "Allora:\n",
        "1. V.c $Y_i$ per descrivere il risultato alla i-esima estrazione campionaria i=1..n\n",
        "\n",
        "v.c. organizzate nel vettore:\n",
        "\n",
        "$Y_{n*1}=[Y_1...U_i...Y_n]^t$\n",
        "- a n componenti fra loro indipendenti in senso distributivo o stocastico\n",
        "\n",
        "2. v.c. $Y_i \\in FE$ con stessa legge di distribuzione\n",
        "\n",
        "$$f(y_i; \\theta_i; \\phi)= exp[\\frac{y_i\\theta_i - b(\\theta_i)}{a\\phi)}+ c(y_i; \\phi)]$$\n",
        "- ogni i=1...n\n",
        "\n",
        "3. Insieme di K var esplicative:\n",
        "\n",
        "$X_1...X_j...X_k$ (quantitative e\\o categoriali)\n",
        "- valori organizzati nella matrice disegno (o dei coefficienti) del modello $X_{n*p}$ con p=num.totale di parametri\n",
        "\n",
        "Rango di X\n",
        "- $X_j$ tutte quantitative\n",
        "\n",
        "$p=k+1$ e $rank(X)= p=k+1$\n",
        "- X ha rango colonna pieno\n",
        "\n",
        "- negli altri casi (in approcio GLm) rank(X)< p\n",
        "\n",
        "-> quindi , in generale: $rank(X) \\le p$\n",
        "\n",
        "-> strutura di X : accostamento per  riga dei vettori p-dimensionali $x_i^t$, i=1..n\n",
        "\n",
        "\n",
        "$X_{n*p}= [x_1^t...x_i^t...x_n^t]$\n",
        "- $x_i^t=[1, x_{i1}, ....x_{ij}.....x_{i,p-1}]$\n",
        "- ogni i=1...n\n",
        "\n"
      ],
      "metadata": {
        "id": "GpjtOxiQafee"
      }
    },
    {
      "cell_type": "markdown",
      "source": [
        "4. Preditore lineare:\n",
        "\n",
        "$\\eta= x_{1*p}^t\\beta_{p*1}= \\beta_0 +\\sum_{j=1}^{p-1}\\beta_j x_j$\n",
        "\n",
        "dove:\n",
        "\n",
        "$\\beta_{p*1}= [\\beta_0,\\beta_1...\\beta_j, ...\\beta_{p-1}]$ vettore di parametri ignoti\n",
        "\n",
        "$x^t=[1, x_1...x_j...x_{p-1}]$\n",
        "\n",
        "sulla i-essima u.s.\n",
        "\n",
        "$\\eta_i=x_i^t \\beta$\n",
        "- ogni i=1..n\n",
        "\n",
        "5. Link unction: LF\n",
        "\n",
        "equazione del GzLM espressa in termini lineari\n",
        "\n",
        "$$g(\\mu)= \\eta=   x^t\\beta$$\n",
        "- dove $\\mu=E[Y]$\n",
        "\n",
        "Sulla i-essima u.s.\n",
        "\n",
        "$$$g(\\mu_i)= \\eta_i=x_i^t\\beta$ i=1...n\n",
        "\n",
        "dove: $\\mu_i= E[Y_i]$ ogni i\n",
        "\n",
        "Se g(.) e' funzione monotona , continua e derivabile allora esiste la f.inversa $g(.)^{-1}$ Inversa LInk Function -ILF\n",
        "\n",
        "$$\\mu_i= g(\\eta_i)^{-1}= g^{-1}(x_i^t\\beta)$$\n",
        "- ogni i =1..n\n",
        "\n",
        "equazione del GzLM nonlineare\n",
        "\n",
        "6. $Var[Y_i]= $ e funzione di $\\mu_i=E[Y_i]$\n",
        "\n",
        "[$Var(Y_i)= a(\\phi)V(\\mu_i)$] i=1...n\n",
        "- i GzLM sono per loro natura modelli eteroscedastici\n",
        "\n",
        "Esempio di LF: $g(\\mu_i)= \\eta_i= x_i^t\\beta$ ogni i\n",
        "\n",
        "1. Identity Link\n",
        "\n",
        "$$\\mu_i= \\eta_i=x_i^t\\beta$$ ogni i\n",
        "- modello lineare co errori eteroscedastici\n",
        "\n",
        "2. Canonical Link\n",
        "\n",
        "$$\\theta_i= \\eta_i= x_i^t\\beta$$ ogni i\n",
        "- parametro canonico discerito mediante il legame lineare con le var. esplicative\n",
        "\n",
        "Esempio: $Y_i\\sim Poisson(\\lambda_i)$ i=1..n\n",
        "\n",
        "$\\theta_i=ln(\\lambda_i)$ parametro canonico\n",
        "\n",
        "equazione del GzLM mediante LF canonica\n",
        "\n",
        "$$\\theta_i= ln(\\lambda_i)= x_i^t\\beta$$ ogni i\n",
        "- modello lineare\n",
        "Modello log-lineare i di Poisson, per dati di conteggio\n",
        "\n",
        "$\\lambda_i=exp(x_i^t\\beta)$ ogni i\n",
        "- modello moltiplicativo\n",
        "\n",
        "\n",
        "\n"
      ],
      "metadata": {
        "id": "9t1Dr_p6afhD"
      }
    },
    {
      "cell_type": "markdown",
      "source": [
        "# Video 2"
      ],
      "metadata": {
        "id": "B9VVgDq-afj_"
      }
    },
    {
      "cell_type": "markdown",
      "source": [],
      "metadata": {
        "id": "O4fNaVD8afmi"
      }
    },
    {
      "cell_type": "markdown",
      "source": [],
      "metadata": {
        "id": "Ld5MRhC6afpB"
      }
    },
    {
      "cell_type": "markdown",
      "source": [],
      "metadata": {
        "id": "xHfBSZ1uafrl"
      }
    },
    {
      "cell_type": "markdown",
      "source": [],
      "metadata": {
        "id": "-O1evypoafuS"
      }
    },
    {
      "cell_type": "markdown",
      "source": [],
      "metadata": {
        "id": "Lg-3ZF32afwf"
      }
    },
    {
      "cell_type": "markdown",
      "source": [],
      "metadata": {
        "id": "LGoAqzBMafzM"
      }
    },
    {
      "cell_type": "markdown",
      "source": [],
      "metadata": {
        "id": "JQaQfvwEaf1o"
      }
    },
    {
      "cell_type": "markdown",
      "source": [],
      "metadata": {
        "id": "vGBhVm9Paf4G"
      }
    },
    {
      "cell_type": "markdown",
      "source": [],
      "metadata": {
        "id": "tMg_ydLlaf6a"
      }
    },
    {
      "cell_type": "markdown",
      "source": [],
      "metadata": {
        "id": "tXlJH9JJaj8B"
      }
    }
  ]
}