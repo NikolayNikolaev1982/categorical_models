{
  "nbformat": 4,
  "nbformat_minor": 0,
  "metadata": {
    "colab": {
      "provenance": [],
      "authorship_tag": "ABX9TyOa7kbw/AKdxSGvClVwkTte",
      "include_colab_link": true
    },
    "kernelspec": {
      "name": "python3",
      "display_name": "Python 3"
    },
    "language_info": {
      "name": "python"
    }
  },
  "cells": [
    {
      "cell_type": "markdown",
      "metadata": {
        "id": "view-in-github",
        "colab_type": "text"
      },
      "source": [
        "<a href=\"https://colab.research.google.com/github/NikolayNikolaev1982/categorical_models/blob/main/Parte_8_Selezione_modello.ipynb\" target=\"_parent\"><img src=\"https://colab.research.google.com/assets/colab-badge.svg\" alt=\"Open In Colab\"/></a>"
      ]
    },
    {
      "cell_type": "markdown",
      "source": [
        "# Selezione del GLM\n",
        "\n",
        "comprendere i modelli sia ANOVA, sia ANCOVA sia modelli piu generali dell'ANCOVA , nei quali si prevedono interazionifra var.cotegoriali e covariate\n",
        "\n",
        "\n",
        "Formulazione unica dell'equazione in forma matricale per includere tutta la modelistica posibile a rango non pieno.\n",
        "\n",
        "- si introduce con\n",
        "\n",
        "$W_{n*p}=[X_{n*p} ; Z_{n*c}]$ , con P=p+c\n",
        "\n",
        "matrice disegno del GLM complessivo.\n",
        "\n",
        "$η_{P*1}= [\\beta; b]^t$ vettore di parametri del GLM\n",
        "\n",
        "Equazione del GLM\n",
        "\n",
        "$$Y= W\\eta +\\epsilon= [X;Z][\\beta;b]^y +\\epsilon= X\\beta+Zb+\\epsilon$$\n",
        "\n",
        "dove:\n",
        "- rank(X)= h\n",
        "- rank(Z) = c\n",
        "- rank(W)= h+c=k<p+c=P<n\n",
        "\n",
        "\n",
        "Metodi di selezione del GLM\n",
        "1. Metodo Forward - metod  \"in avanti\"\n",
        "2. metodo Stepwise- metodo in avanti \"passo per passo\"\n",
        "\n",
        "In SAS: PROC GLMSELECT\n",
        "\n",
        "\n",
        "\n",
        "\n",
        "\n",
        "\n",
        "\n",
        "\n",
        "\n",
        "\n",
        "\n",
        "\n",
        "\n",
        "\n",
        "\n",
        "\n",
        "\n",
        "\n",
        "\n",
        "\n"
      ],
      "metadata": {
        "id": "shZdJPXB8jSj"
      }
    },
    {
      "cell_type": "markdown",
      "source": [
        "## 1. Metodo Forward\n",
        "- procedure sequwenziale in avanti condotta in un numero S di pasi o step\n",
        "- criterio tradizionale : criterio F\n",
        "- punto di partenza della procedurra per passi in avanti\n",
        "  - il modello che ocntiene solo il termina cotante o effetto comune\n",
        "  - ad ogni passo s=1...S si confrontano\n",
        "    - \"curent model\" modello corente al passo s selezionato al passo s-1\n",
        "    - con s=0 il current model e' il modello con il solo effetto comune\n",
        "    - fited model- modello adattato al passo s ed oggetto di valutazione mediante confronto con il current model\n",
        "    - in generale , al passo s si hanno piu modelli che concorono alla selezione\n",
        "\n",
        "Valutazione:\n",
        "- current model: $Y=W_c\\eta_c +\\epsilon$\n",
        "con nmero di parametri pari a $P_c$ e: $rank(W_c)= h_c+c_c=K_c$\n",
        "\n",
        "Inoltre:\n",
        "\n",
        "$df(SSE_c)= n-rank(W_c)= n-K_c$\n",
        "\n",
        "$df(SSR_c)= rank(W_c)-1=k_c - 1$\n",
        "\n",
        "\n",
        "Fitted model: $Y=W_F\\eta_F+\\epsilon$ con numero di parametri pari a: $P_F= P_c + P_F^{'}$\n",
        "- $P_F^{'}$ numero di parametri in piu del \"fitted model\" rispeto al current  model\n",
        "\n",
        "e : $rank(W_F)= K_F = K_c+K_F^{'}$ dato che $W_F=[W_c; W_F^{'}]$, dove $W_F^{'}$ esprime l'inserimento dei $P_F^{'}$ parametri aggiuntivi rispetto al current nole. Inoltre:\n",
        "\n",
        "$df(SSE_F)= n-rank(W_F)= n- (K_c+K_F^{'})$\n",
        "\n",
        "$df(SSR_F)= rank(W_F)- 1= K_c+K_F^{'}-1$\n",
        "\n",
        "\n",
        "Confronto fra fitterd model e current model:\n",
        "effettuato mediante la differenza fra SSE:\n",
        "\n",
        "$$SSE_c-SSE_F=SSR_F^{'}\\ge 0$$\n",
        "\n",
        "- $SR_F^{'}$ parte di deviazione speagata in piu per l'inserimento di un numero aggiuntivo di parametri pari a $P_F^{'}$\n",
        "\n",
        "che ha associatyi i seguenti gradi d liberta:\n",
        "\n",
        "$df(SSR_F^{'})= df(SSE_c)- df(SSE_F)= n-K_c-(n-K_c-K_F^{'})= n-K_c-n+K_c+K_F^{'}= K_F^{'}$\n",
        "\n",
        "Procedura standard per il confronto mediante il ccriterio F\n",
        "\n",
        "$$\\frac{ \\frac{SSR_F^{'}}{K_F^{'}}  }{\\frac{SSE_F^{'}  }{n-(K_c+K_F^{'}) }   }= F$$\n",
        "- distribuzione torica di riferimento: F di Fisher: $F_{K_F^{'}; n-(K_c+k_F^{'})}$\n",
        "\n",
        "- si fissa il valore $\\alpha_E=SLE$  ossia il livello di significativita per l'ingresso dell'effetto nel modello: Significance Level for Entry\n",
        "\n",
        "- in corispondeza di $\\alpha_E$ si ha il valore critico $F_{\\alpha_E}$ tale che\n",
        "\n",
        "$$P[F_{K_F^{'}; n-(K_c+K_F^{'})}\\ge F_{\\alpha_E}]= \\alpha_E$$\n",
        "\n",
        "\n",
        "Passo s: piu modelli \"fitted\" concorano alla selezine $Mod_1^{(s)}= ...=Mod_l^{(s)}=...=Mod_L^{(s)}$\n",
        "- per ciacun modello $Mod_l^{(s)}$ si determinano:\n",
        "  - il valore F: $F_{Mod_l^{(s)}}$\n",
        "  - il p-value associato al valore $F_{Mod_l^{(s)}}$:\n",
        "\n",
        "  $$p-value(Mod_l^{(2)})= P[F_{K_{F_l}^{(s)}; n-(K_c+K_{F_l}^{'(s)})}\\ge F_{Mod_l^{(s)}}]$$\n",
        "\n",
        "\n",
        "- si confrontano fra loro i p-value dei modelli fitted $Mod_l^{(s)}$. Se:\n",
        "\n",
        "$$p-val(Mod_l^{(s)})= min_{l=1...L}p-val(Mod_l^{(s)})$$\n",
        "\n",
        "$Mod \\text{ }F_t^{(2)}$ e' il modello fitted condidato alla selezione\n",
        "\n",
        "Quindi:\n",
        "- se $p-val[Mod\\text{ }F_t^{(s)}]< \\alpha_E$\n",
        "  - $F_t^{(s)}$ e; il modello selezionato al passo s\n",
        "  - diventa il modello current al passo s+1\n",
        "    - la aprocedura viene ripetuta\n",
        "\n",
        "- se $p-val (F_t^{(s)})\\ge \\alpha_E$\n",
        "  - la procedure di selezione si arresta il mdeollo seleziona e' il modello current del passo s-1\n",
        "\n",
        "Osservazione: la distribuzione teorica del criterio F NON e' effettivamente una v.c. F di Fiscer\n",
        "- al criterio F si affiancano altri criteri ad.es. i criteri AIC and BIC\n",
        "\n",
        "\n"
      ],
      "metadata": {
        "id": "FeYwikRg8jXj"
      }
    },
    {
      "cell_type": "markdown",
      "source": [
        "2. Metod Stepwise\n",
        "- differenza con il metodo Forward:\n",
        "\n",
        "- gli effetti selezionati al passo s sono oggetto di nuova valutazione al passo s+1 , ogni s\n",
        "- criterio tradizionale : criterio F\n",
        "- si fissano due soglie di significativita:\n",
        "  - $\\alpha_E$ significance level for Entry - SLE\n",
        "  - $\\alpha_s$ significant level for staying SLS\n",
        "\n",
        "Passo s: si sceglie Fitted model che garantisce p-value piu basso (con riferimento al test F sui parametri aggiuntivi rispetto al current model) e tale che\n",
        "\n",
        "$$p-val < \\alpha_F$$\n",
        "\n",
        "Inoltre, se vi sono effetti tali per cui:\n",
        "\n",
        "$$p-val \\ge \\alpha_s$$\n",
        "\n",
        "l'effetto con p-val piu elevato viene rimosso dal modello.\n",
        "\n",
        "la procedura e' iterata ogni s=1...S\n",
        "\n"
      ],
      "metadata": {
        "id": "3I4Rdw288jZ_"
      }
    },
    {
      "cell_type": "markdown",
      "source": [],
      "metadata": {
        "id": "8TqDj_ML8jcU"
      }
    },
    {
      "cell_type": "markdown",
      "source": [],
      "metadata": {
        "id": "VZrrav-68je1"
      }
    },
    {
      "cell_type": "markdown",
      "source": [],
      "metadata": {
        "id": "gfLxeqeC8jhH"
      }
    },
    {
      "cell_type": "markdown",
      "source": [
        "\n",
        "\n"
      ],
      "metadata": {
        "id": "dkVPgBMY8jjr"
      }
    },
    {
      "cell_type": "markdown",
      "source": [],
      "metadata": {
        "id": "0Fge82-F8jmC"
      }
    },
    {
      "cell_type": "markdown",
      "source": [],
      "metadata": {
        "id": "_VyEg3pz8joe"
      }
    },
    {
      "cell_type": "markdown",
      "source": [],
      "metadata": {
        "id": "04r4jPK08jq6"
      }
    },
    {
      "cell_type": "markdown",
      "source": [],
      "metadata": {
        "id": "-zk_myM88jtY"
      }
    },
    {
      "cell_type": "markdown",
      "source": [],
      "metadata": {
        "id": "DO2RB0QC8jvt"
      }
    },
    {
      "cell_type": "markdown",
      "source": [],
      "metadata": {
        "id": "XFwFBlTR8jyF"
      }
    },
    {
      "cell_type": "markdown",
      "source": [],
      "metadata": {
        "id": "Z2F0jcj78j0c"
      }
    },
    {
      "cell_type": "markdown",
      "source": [],
      "metadata": {
        "id": "lTHb31gw8j2z"
      }
    },
    {
      "cell_type": "markdown",
      "source": [],
      "metadata": {
        "id": "q0obDe9d8j5J"
      }
    },
    {
      "cell_type": "markdown",
      "source": [],
      "metadata": {
        "id": "N7a76Sc68j7u"
      }
    },
    {
      "cell_type": "markdown",
      "source": [],
      "metadata": {
        "id": "6dwwStSe8j-M"
      }
    },
    {
      "cell_type": "markdown",
      "source": [],
      "metadata": {
        "id": "X3z1-CHM8kAg"
      }
    },
    {
      "cell_type": "markdown",
      "source": [],
      "metadata": {
        "id": "py4iuayB8kCu"
      }
    },
    {
      "cell_type": "markdown",
      "source": [],
      "metadata": {
        "id": "UjZMctls8kFT"
      }
    },
    {
      "cell_type": "markdown",
      "source": [],
      "metadata": {
        "id": "Se2YJLhh8kHe"
      }
    },
    {
      "cell_type": "markdown",
      "source": [],
      "metadata": {
        "id": "Og61z0jp8kJz"
      }
    }
  ]
}