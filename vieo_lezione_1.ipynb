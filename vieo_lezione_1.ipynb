{
  "nbformat": 4,
  "nbformat_minor": 0,
  "metadata": {
    "colab": {
      "provenance": [],
      "authorship_tag": "ABX9TyNAAwmEnfU5L9bk1nLLowpN",
      "include_colab_link": true
    },
    "kernelspec": {
      "name": "python3",
      "display_name": "Python 3"
    },
    "language_info": {
      "name": "python"
    }
  },
  "cells": [
    {
      "cell_type": "markdown",
      "metadata": {
        "id": "view-in-github",
        "colab_type": "text"
      },
      "source": [
        "<a href=\"https://colab.research.google.com/github/NikolayNikolaev1982/categorical_models/blob/main/vieo_lezione_1.ipynb\" target=\"_parent\"><img src=\"https://colab.research.google.com/assets/colab-badge.svg\" alt=\"Open In Colab\"/></a>"
      ]
    },
    {
      "cell_type": "code",
      "execution_count": null,
      "metadata": {
        "id": "sMeSWJuc8aQ-"
      },
      "outputs": [],
      "source": []
    },
    {
      "cell_type": "markdown",
      "source": [
        "# Introduzione al Corso M.L.per dati categoriali\n",
        "\n",
        "Generalizzazione di L M Classico.\n",
        "\n",
        "## ANOVA\n",
        "\n",
        "Si considera il caso semplice:\n",
        "- Y - var di"
      ],
      "metadata": {
        "id": "7eqGZ_e38bFG"
      }
    },
    {
      "cell_type": "markdown",
      "source": [],
      "metadata": {
        "id": "BbXjrlrb8bHQ"
      }
    },
    {
      "cell_type": "markdown",
      "source": [
        "## Modello 1-Way in forma matricale\n",
        "\n",
        "Obbientivo: scrive l'equazione del modello:\n",
        "\n",
        "$$Y_{ij}= \\mu + \\alpha_j + \\epsilon_{ij}$$\n",
        "- ogni i=1...n_j e j=1...k\n",
        "\n",
        "$$Y_{n*1}= X_{n*p}\\beta_{p*1} + \\epsilon_{n*1}$$\n",
        "\n",
        "dove in generale:\n",
        "\n",
        "Y e' il vetttore di v.c. o anche vettore casuale ad n-elementi relative alle estrazioni campionarie da effettuare risppetto alla var Y.\n",
        "\n",
        "$\\epsilon$ e' il vettore delle v.c. d'errore del modello di dimensione n\n",
        "\n",
        "$\\beta$ il vettore di parametri ignoti a p elementi\n",
        "\n",
        "X- e' la matrice disegno del modello di dimensioni n*p con n>p\n",
        "\n",
        "\n",
        "Nel caso del modello ANOVA ad 1 via\n",
        "\n",
        "$$Y_{n*1}=[Y_{11}, ...Y_{ij}, ... Y_{n_k k}]^t$$\n",
        "\n",
        "$$\\epsilon_{n*1} = [\\epsilon_{11}...\\epsilon_{ij}...\\epsilon_{n_k k}]^t $$\n",
        "\n",
        "$$\\beta_{(k+1)*1} =[\\mu, \\alpha_1...\\alpha_j...\\alpha_k]$$\n",
        "\n",
        "X- matrice disegno del modello\n",
        "- e' una matrice binaria poiche esprime la presenza / assenza dei vari parametri su tutto is sistema di equzioni del modello\n",
        "\n",
        "\n",
        "Esempio: k=3 ategorie $s_1,s_2,s_3$\n",
        "- $n_j=\\bar{n}=2$\n",
        "- ogni j=1,2,3\n",
        "- n=6\n",
        "\n",
        "Sistema di equzioni del modello\n",
        "\n",
        "$$Y_{11}= \\mu+\\alpha_1 + \\epsilon_{11}$$\n",
        "$$Y_{21}= \\mu+\\alpha_2 + \\epsilon_{21}$$\n",
        "$$Y_{12}= \\mu+\\alpha_2 + \\epsilon_{12}$$\n",
        "$$Y_{22}= \\mu+\\alpha_2 + \\epsilon_{22}$$\n",
        "$$Y_{13}= \\mu+\\alpha_3 + \\epsilon_{13}$$\n",
        "$$Y_{23}= \\mu+\\alpha_3 + \\epsilon_{23}$$\n",
        "\n",
        "sistema di equzioni scrita per estesso\n",
        "\n",
        "$Y=[Y_{6*1}, Y_{21}, Y_{12}......Y_{23}]^t$\n",
        "\n",
        "$\\epsilon_{6*1}=[ϵ_{11}, \\epsilon_{12}....\\epsilon_{23}]^t$\n",
        "\n",
        "$\\beta_{4*1}=[\\mu, \\alpha_1, \\alpha_2,\\alpha_2]$\n",
        "\n",
        "Matrice disegno X:\n",
        "\n",
        "$$\n",
        "\\mathbf{X_{n*(k+1)}} = \\mathbf{X_{6*4)}}=\n",
        "\\begin{bmatrix}\n",
        "\\mu & \\alpha_1 & \\alpha_2 & \\alpha_3 \\\\\n",
        "1 & 1 & 0 & 0  \\\\\n",
        "1 & 1 & 0 & 0  \\\\\n",
        "1 & 0 & 1 & 0  \\\\\n",
        "1 & 0 & 1 & 0  \\\\\n",
        "1 & 0 & 0 & 1  \\\\\n",
        "1 & 0 & 0 & 1  \\\\\n",
        "\\end{bmatrix}\n",
        "$$\n",
        "\n",
        "$rank(X) \\le min[nrow(X), ncol(X)]= min(n, p)= p$\n",
        "- perche n>p\n",
        "\n",
        "$$rank(X)= p = 4=???$$\n",
        "\n",
        "Un vettore colonna si ricava come combinazione lineare degli altri vettorei colonna nella matrice X -> rank(X)<4\n",
        "\n",
        "-> rank(X)=3. Se consideriamo trte dei quatreo vettori colonna in X , sono linearmente indipendenti (L:IN-linear INdependent)\n",
        "\n",
        "In generale, i modelli che contengono la matrice X con rango non pieno fanno porte di quella classse di modelli indicata come MODELLO LINEARE GENERALE\n",
        "\n",
        "GLM - General Linear Model\n",
        "\n",
        "equazione: $Y_{n*1}=X_{n*p}\\beta_{p*1}+\\epsilon_{n*1}$\n",
        "\n",
        "Nella quale si hanno le seguenti cvarateristiche\n",
        "- rank(X)=k\n",
        "- Numero di parametri = p\n",
        "- unita rango perse = p-rank(X)=p-k\n",
        "\n",
        "1-way ANOVA: si ha sempre:\n",
        "- unita rango perse=p-k=k+1-k=1\n",
        "- nell esempio precedento: p= 4, k=3- rango(X)\n",
        "-> unita rango perse = 4-3 = 1\n",
        "\n",
        "### Ipotesi GLM\n",
        "- a: $E[\\epsilon]= 0$\n",
        "- b:\n",
        "$$V[\\epsilon]= \\sigma^2 I_n= $$\n",
        "\n",
        "$$\n",
        "\\begin{bmatrix}\n",
        "\\sigma^2 & 0 & 0 & 0  \\\\\n",
        "0 & \\sigma^2 & 0 & 0  \\\\\n",
        "0 & 0 & \\sigma^2 & 0  \\\\\n",
        "0 & 0 & 0 & \\sigma^2  \\\\\n",
        "\\end{bmatrix}\n",
        "$$\n",
        "\n",
        "ipotesi di omoscedasticita e' incorelazione - > sfericita degli errori\n",
        "\n",
        "- c: X matice deterministica a rango non pieno: rank(X)=k<p<n\n",
        "\n",
        "- d: $\\epsilon \\sim N_n(0, \\sigma^2I_n)$ -\n",
        "\n",
        "OSs: equazione + ipotesi del GLM indentiche a quelle del Modello LIneare classico  - CLM - classical linear model ad ecceione dell'ipotesi (c)\n",
        "\n",
        "\n",
        "Conseguenza del rango non pieno di X: $rank(X)= rank(X^tX) < p$\n",
        "- anche $dat(X^tX)=0$ <-> $\\not\\exists (X^tX)^{-1}$\n",
        "\n",
        "-> non e' possibile applicare il metoo dei minimi quadrati ordinari per sitmare $\\beta$\n",
        "\n",
        "\n",
        "### Ipotesi del GLM rispetto al vettore casuale: $Y$\n",
        "\n",
        "equzione per Y ....\n",
        "\n",
        "- a: $E[Y|X]= E[Y]= E[X\\beta+\\epsilon]= E[X\\beta]+\\epsilon= X|beta+0= X\\beta$\n",
        "- b: $V[Y]= V[\\epsilon]=\\sigma^2 I_n$\n",
        "- c: X matrice deterministica a rango non pieno: rank(X)=k<p<n\n",
        "- $Y|X=Y\\sim N_n(X\\beta, \\sigma^2 I_n)$\n",
        "\n",
        "### Problema della stima del vettore $\\beta$\n",
        "- procedura per l;applicazione del criterio deiminimi quadrati oridinari OLS\n",
        "\n",
        "- equazione del modello a livello campionario:\n",
        "\n",
        "$$y=X\\beta + e$$\n",
        "\n",
        "- y_{n*1}- il vettore dei valori osservati della variabile Y\n",
        "- e_{n*1} - il vettore dei residui dato da: $e=y-\\hat{y}=y-X\\beta$\n",
        "  - $\\hat{y}_{n*1}= X\\beta$ vettore dei valori di Y previsti dal modello\n",
        "\n",
        "- criterio OLS:\n",
        "$$min_{\\beta}e^te$=\\min_{\\beta}\\sum_{i=1}^n e_i^2=\\min_{\\beta}(y-X\\beta)^t(y-X\\beta)$\n",
        "\n",
        "\n",
        "Soluzione al problema di minimo con il metodo di annullamento del gradiente-> sistema di equzioni normali:  $(X^tX)_{p*p}\\beta_{p*1}=X_{p*n}^ty_{n*1}$ entrambi $p*1$\n",
        "\n",
        "----------\n",
        "Richiamo nel CLM:\n",
        "- c: X matrtice deteministica a ranogo pieno:$ rank(X)=p<n$\n",
        "- rank(X)= rank(X^tX)=p\n",
        "- X^tX ha rango pieno p*p\n",
        "- det(X^tX) \\ne 0 --- X^tX matrioce nonsingolare\n",
        "- esiste(X^tX)^{-1} ----X^tX e' invertibile\n",
        "- esistono le stima OLS per \\beta: (X^tX)^{-1}(X^tX)\\beta =(X^tX)^{-1}X^ty-> \\hat{\\beta}^{ols}=\\hat{\\beta}=(X6tX)^{-1}X^ty-stima OLS\n",
        "  - (X^tX)^{-1}(X^tX) =I_p\n",
        "- e' una stima multidimensinale\n",
        "\n",
        "-> $\\hat{B}= (X^tX)^{-1}X^tY$- stimatore OLS al variare del campione\n",
        "\n",
        "----------\n",
        "\n",
        "Nel GLM:\n",
        "- rank(X)=k <p <n\n",
        "- rank(X6tX)=k <p\n",
        "- det(X^tX)=0 - matrice singolare\n",
        "- non esiste $(X^tX)^{-1}$ non e' invertibile\n",
        "- > non esistono le stima OLS per $\\beta$\n",
        "\n",
        "\n",
        "Come procedere alla stima di \\beta nel GLM? Due approcci:\n",
        "1. Minimi quadrati vincolati- COLS\n",
        "2. Applicazione del Inversa Generalizzata\n"
      ],
      "metadata": {
        "id": "mLSv0APr8bJw"
      }
    },
    {
      "cell_type": "markdown",
      "source": [
        "# L1-video 3"
      ],
      "metadata": {
        "id": "7Xmsv-MR8bML"
      }
    },
    {
      "cell_type": "markdown",
      "source": [
        "## Aprocio COLS - cenni\n",
        "### Minimi quadrati vincolati:\n",
        "\n",
        "Problema: rank(X)=k <p\n",
        "- si perdano p-k unita rango\n",
        "\n",
        "Il sistema di equazioni normali nel GLM ha k equazioni linearmente indipendenti LIN in p incognite con k<p\n",
        "- mancano p-k ulteriori equazioni LIN per la stima di $\\beta$\n",
        "- soluzione dell'aoproccio COLS: definire tanti vincoli lineri quante sono le uniota rango perse\n",
        "  - introduzione nel sistema di p-k equzioni LIN\n",
        "\n",
        "Due modi diversi di definire i vincoli lineari:\n",
        "\n",
        "A. sum=to-0 Linear constrains: sim to 0 vincoli lineari sui parametri a somma nulla\n",
        "\n",
        "Esempio: 1-way AOVA\n",
        "- k=3\n",
        "- $\\bar{n}=\\frac{n}{3}$\n",
        "- rank(X)_{n*4}= k = 3 <p=4\n",
        "\n",
        "-> p-k=1 vincoli lineare necesario\n",
        "\n",
        "sum-to-0: $\\alpha_1+\\alpha_2+\\alpha_3=0$\n",
        "\n",
        "In generale: $\\sum_{j=1}^k \\alpha_j=0$\n",
        "\n",
        "si possono stimare k-1 parametri \\alpha_j,  j=1....k-1\n",
        "\n",
        "il parametro $\\alpha_k$ senza perdita di generalia e' dato da:\n",
        "\n",
        "$\\alpha_k=-\\sum_{j=1}^k \\alpha_j$\n",
        "\n",
        "Dati NON bilanciati:\n",
        "\n",
        "$n_j \\ne n_l$ per almeno una coppia (j,l)\n",
        "\n",
        "- sum to 0 : $n_!\\alpha_1 + ...+ n_j\\alpha_j + ... + n_k\\alpha_k= \\sum_{j=1}^k n_j\\alpha_j = 0$ - [somma ponderata]\n",
        "\n",
        "\n",
        "- si possono stimare k-1 parameri $\\alpha_j$, j=1..k-1\n",
        "- il parametro $\\alpha_k$ senza perdita di deneralita e' dato da:\n",
        "\n",
        "$$n_k\\alpha_k= -(n_1\\alpha_1+ ...+n_j\\alpha_j + ...+n_{k-1}\\alpha_{k-1})= -\\frac{1}{n_k} \\sum_{j=1}^{k-1} n_j\\alpha_j$$\n",
        "- $n_k \\ne 0$\n",
        "\n",
        "Esempio:\n",
        "- 1-Way ANOVA\n",
        "- k=3\n",
        "- dati non bilanciati\n",
        "\n",
        "$n_1\\alpha_1+ n_2\\alpha_2+n_3\\alpha_3=0$\n",
        "\n",
        "$\\alpha_3= -\\frac{1}{n_3}(n_1\\alpha_1+ n_2\\alpha_2)$\n",
        "\n",
        "\n",
        "### B. Set to 0 Linear COnstrains\n",
        "\n",
        "esempio:\n",
        "- 1-way ANOVA\n",
        "- $\\alpha_j=0$ per j-fissato\n",
        "\n",
        "Di default SAS considera $\\alpha_k=0$\n",
        "\n",
        "Vantaggio di set-to-0 rispetto a sum-to-0: nessuna distinzione fra dati bilanciati e dati nonbilanciati\n",
        "\n",
        "Infatti: $n_j\\alpha_j=0 <-> \\alpha_j=0$ con j-fissato dato che certamente $n_j\\ne 0$\n"
      ],
      "metadata": {
        "id": "NbiVS05M8bO6"
      }
    },
    {
      "cell_type": "markdown",
      "source": [
        "## Strutura della popolazione e struttura del campione:\n",
        "\n",
        "P-popolazione statistica di riferimento costruita da N unita statistiche\n",
        "\n",
        "S- var/categoriale con k - categorie: #s_1,...s_j, ...s_k#\n",
        "- le u.s. in P sono suddivise in k sottopopolazioni\n",
        "\n",
        "Schema di riferimento per la struttura della popolazione P\n",
        "\n",
        "||  s_1 | ...  | s_j  |...   |s_k\n",
        "|---|---|---|---|---|---|\n",
        "|popolazione bilanciata|\\bar{N}| ...|\\bar{N}  |....   |\\bar{N}   |\n",
        "|pop.NON bilaciata  |N_1   |...   |N_j   |...   |N_k|\n",
        "\n",
        "\n",
        "$\\bar{N}=\\frac{N}{k}<->N=k\\bar{N}$\n",
        "\n",
        "$\\sum_{j=1}^k N_j=N$\n",
        "\n",
        "Schema di riferimnetoper la struttura del campione\n",
        "\n",
        "||  s_1 | ...  | s_j  |...   |s_k\n",
        "|---|---|---|---|---|---|\n",
        "|popolazione bilanciata|\\bar{n}| ...|\\bar{n}  |....   |\\bar{n}   |\n",
        "|pop.NON bilaciata  |n_1   |...   |n_j   |...   |n_k|\n",
        "\n",
        "\n",
        "$\\bar{n}=\\frac{n}{k}<->n=k\\bar{n}$\n",
        "\n",
        "$\\sum_{j=1}^k n_j=n$\n",
        "\n",
        "Confronto fra popolazione e campione nei termini di struttura\n",
        "\n",
        "|camp vs pop   |bilanciata  |NON bilanciata   |\n",
        "|---|---|---|\n",
        "|bilanciata    |\\bar{N}->\\bar{n} caso ideale|N_j->\\bar{n} |\n",
        "|non bilanciata|\\bar{N}->n_j     |N_j->n_j  caso ideale se n_j e' proporzionato a N_j, ogni j   |\n",
        "\n",
        "---\n",
        "### Considerazioni sul canfronto fra struttura della popolazione e struttura del campione\n",
        "\n",
        "Versante della popolazione:\n",
        "\n",
        "1. Spesson NON nota la struttura della popolazione, se bilanciata o non bilanciata\n",
        "\n",
        "2. spesso si sa che la popolazione non e' bilanciata , ma non si consocono le numerosita N_j entro s_j per (qualche j)\n",
        "\n",
        "3. spesso non si conosce la numerosita N, oltre alla sua strutura\n",
        "\n",
        "Versante del campione:\n",
        "1. spesso il campione e' gia dato (ad es. studi osservazionali)\n",
        "- non e' possibile controllare le numerosita n_j entro s_j e anche l'ampiezza n complessiva\n",
        "- non e' possibile controlare la struttura del campione in bilanciato e non bilancito\n",
        "\n",
        "2. se non si conosce nulla della popolazione P , non e' possibile costruire un campione che si possa dire proprzzionato alla numerosita N_j entro s_j\n",
        "\n",
        "|camp vs pop   |bilanciata  |NON bilanciata   |\n",
        "|---|---|---|\n",
        "|bilanciata    |\\bar{N}->\\bar{n} caso ideale|N_j->\\bar{n} |\n",
        "|non bilanciata|\\bar{N}->n_j     |N_j->n_j  caso ideale se n_j e' proporzionato a N_j, ogni j   |\n",
        "\n",
        "ipostazioni di default del software sas -relativi a prima colonna - > inferenza per popolazione Bilanciate\n"
      ],
      "metadata": {
        "id": "W5ZQ8F3M8bRP"
      }
    },
    {
      "cell_type": "markdown",
      "source": [],
      "metadata": {
        "id": "fkSBCKzn80ht"
      }
    },
    {
      "cell_type": "markdown",
      "source": [],
      "metadata": {
        "id": "Vdif6CrE8bTb"
      }
    },
    {
      "cell_type": "markdown",
      "source": [],
      "metadata": {
        "id": "q3LbpwC88bV5"
      }
    },
    {
      "cell_type": "markdown",
      "source": [],
      "metadata": {
        "id": "zJRCiGDI8bYV"
      }
    },
    {
      "cell_type": "markdown",
      "source": [],
      "metadata": {
        "id": "qBSKNr_B8bak"
      }
    },
    {
      "cell_type": "markdown",
      "source": [],
      "metadata": {
        "id": "dhJBpnSx8bfO"
      }
    },
    {
      "cell_type": "markdown",
      "source": [],
      "metadata": {
        "id": "rfKsZRkW8bh6"
      }
    },
    {
      "cell_type": "markdown",
      "source": [],
      "metadata": {
        "id": "jypHFl868bkR"
      }
    },
    {
      "cell_type": "markdown",
      "source": [],
      "metadata": {
        "id": "DQFRD8k58boq"
      }
    },
    {
      "cell_type": "markdown",
      "source": [],
      "metadata": {
        "id": "5koaVFw28btc"
      }
    },
    {
      "cell_type": "markdown",
      "source": [],
      "metadata": {
        "id": "a3_C2KMc8b0Y"
      }
    },
    {
      "cell_type": "markdown",
      "source": [],
      "metadata": {
        "id": "JPdx3oKT8b2m"
      }
    },
    {
      "cell_type": "markdown",
      "source": [],
      "metadata": {
        "id": "io-aVsZc8b48"
      }
    },
    {
      "cell_type": "markdown",
      "source": [],
      "metadata": {
        "id": "v1mHtH9l8b7R"
      }
    },
    {
      "cell_type": "markdown",
      "source": [],
      "metadata": {
        "id": "8fXdeK458b-d"
      }
    }
  ]
}