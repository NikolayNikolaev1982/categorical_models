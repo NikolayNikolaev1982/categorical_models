{
  "nbformat": 4,
  "nbformat_minor": 0,
  "metadata": {
    "colab": {
      "provenance": [],
      "authorship_tag": "ABX9TyOjcd/vwKcCOiFd4vmrqHb5",
      "include_colab_link": true
    },
    "kernelspec": {
      "name": "python3",
      "display_name": "Python 3"
    },
    "language_info": {
      "name": "python"
    }
  },
  "cells": [
    {
      "cell_type": "markdown",
      "metadata": {
        "id": "view-in-github",
        "colab_type": "text"
      },
      "source": [
        "<a href=\"https://colab.research.google.com/github/NikolayNikolaev1982/categorical_models/blob/main/video_lezione_3.ipynb\" target=\"_parent\"><img src=\"https://colab.research.google.com/assets/colab-badge.svg\" alt=\"Open In Colab\"/></a>"
      ]
    },
    {
      "cell_type": "markdown",
      "source": [
        "# Video 1"
      ],
      "metadata": {
        "id": "Aa0ffgVoVQk9"
      }
    },
    {
      "cell_type": "markdown",
      "source": [
        "## Funzioni stimabili:\n",
        "\n",
        "Classe di funzioni lineari di $\\beta$ per cui esistono vere e proprie stime sul campione (ossia, soluzione uniche).\n",
        "\n",
        "Def.informale: sia $q^t\\beta$ una combinazione lineare di $\\beta$ ($q^t$ e' il vettore di coefficienti della combinazione lineare). Se dice che:\n",
        "\n",
        "$q^t\\beta$ e' funzione stimabile <-> esiste per $q^t\\beta$ una soluzione sul campione che sia invariante alla g-inversa: $G=(X^tX)^-$ (e dunque esiste una stima per $q^t\\beta$)\n",
        "\n",
        "Def.Formale: sia $q^t\\beta$ una fubzione lineare di $\\beta$. Si dice che $q^t\\beta$ e' Funazione Stimabile  <=> $q^t\\beta= E[t^tY|X]= t^tE[Y|X]= t^tE[Y]= t^tX\\beta$\n",
        "- $E[Y]=X\\beta$\n",
        "\n",
        "per almeno un vettore t (o anche \"per qualche vettore t\"). Potrebbero essitere piu vettore t.\n",
        "\n",
        "Esempio: 1-way ANOVA:\n",
        "\n",
        "$$Y_{ij}=\\mu_j +\\epsilon_{ij}= \\mu +\\alpha_j +\\epsilon_{ij}$$\n",
        "- ogni i=1...n_j ;\n",
        "- ogni j=1...k\n",
        "\n",
        "- $\\beta=[\\mu, \\alpha_1...\\alpha_k]^t$\n",
        "- $E[Y]= [E[Y_{11}]...E[Y_{ij}]...E[Y_{n_kk}]]^t$\n",
        "- $E[Y_{ij}]= E[\\mu+\\alpha_j+\\epsilon_{ij}]= \\mu + \\alpha_j + E[\\epsilon_{ij}]=\\mu +\\alpha_j ; ogni-i,j$\n",
        "\n",
        "$$t_{1*n}^tE[Y]_{n*1}=[t_{11}...t_{ij}...t_{n_kk}][E[Y_{11}...E[Y_{n_kk}]]]^t = $$\n",
        "$$= t_{11}E[Y_{11}] + ...+ t_{n_kk}E[Y_{n_kk}]= $$\n",
        "\n",
        "$$= \\sum_{j=1}^k \\sum_{i=1}^{n_j} t_{ij}E[Y_{ij}]= \\sum_j \\sum_i t_{ij}(\\mu+\\alpha_j)=$$\n",
        "\n",
        "$$= \\sum_j(\\mu +\\alpha_j)\\sum_i t_{ij}= \\sum_j (t_{.j})(\\mu+\\alpha_j)$$\n",
        "- $\\sum_{i}t_{ij}=t_{.j}$\n",
        "\n",
        "\n",
        "$$=\\sum_j t_{.j}\\mu + \\sum_j t_{.j}\\alpha_j= \\mu\\sum_{j}t_{.j}+\\sum_j t_{.j}\\alpha_j=$$\n",
        "- $\\sum_{}$\n",
        "\n",
        "$$t_{..}\\mu +\\sum_j t_{.j}\\alpha_j= q^t\\beta$$\n",
        "\n",
        "dove:\n",
        "- $t_{.j}= \\sum_{i=1}^{n_j}t_{ij}$\n",
        "- $t_{..}=\\sum_{j=1}^{k}=\\sum_{j=1}^k \\sum_{i=1}^{n_j}t_{ij}$\n",
        "\n",
        "-> $q^t$ e' il vettore dei coefficienti per i parametri $\\beta$ ricavati come:\n",
        "- somme parzialii $t_{ij}$\n",
        "- somma totale $t_{..}$\n",
        "\n",
        "dei coefficienti $t_{ij}$ per ogni i,j\n",
        "\n",
        "$q^t=[t_{..}, t_{.1}...t_{ij}..t_{.k}]$\n",
        "\n",
        "Forrma geberale delle Funzioni Stimabili nel modello ANOVA ad una via\n",
        "\n",
        "$$q^t\\beta= [t_{..}, t_{.1}...t_{ij}..t_{.k}][\\mu \\alpha_1...\\alpha_k]=$$\n",
        "\n",
        "$$t_{..}\\mu+t_{.1}\\alpha_1+....+t_{.j}\\alpha_j + ...+t_{.k}\\alpha_k=$$\n",
        "\n",
        "$$= t_{..}\\mu + \\sum_{j=1}^k t_{.j}\\alpha_j$$\n",
        "\n",
        "-> $q^t\\beta= t^tE[Y]$\n",
        "\n",
        "-> implica nella pratica della relazione teorica: $q^t\\beta=t^tE[Y]$ per almeno un $t$\n",
        "\n",
        "- si costruisce direttamente $q$ nella pratica\n",
        "- la realazione teorica indica coma fissare gli elementi in q\n",
        "\n",
        "In generale il vettore q contine un numero di elementi che possono essere fissati liberamente (in base agli obiettivi dell'analisi) mentre gli altri elementi devono essere ricavati come somme opportune degli elementi fissati liberamente.\n",
        "- in base allo specifico GLM considerato specifiche restrizioni (o vincoli) su alcuni elementi nel vettore q.\n",
        "\n",
        "Aspetto fondamentale della teoria GLM si possono stimare solo ed esclussivamente le funzioni di $\\beta$ che rientrano nella forma generale delle funcioni stimabili che coraterrzza ogni specifico GLM.\n",
        "\n",
        "Ad ogni modello GLM si deve far corispondere la sua specifica forma generale delle funzioni stimabili.\n",
        "\n",
        "Esempi riguardanti la stimabilita nel modello ANOVA 1-way.\n",
        "\n",
        "Es 1: j=1 -> $t_{.1}=1$\n",
        "- ogni $l \\ne j=1$ -> $t_{.l}=0$\n",
        "-> $t_{..}= \\sum_{j=1}^k t_{.j}= 1+0+..+0$\n",
        "  - $t_{.1}=1$\n",
        "  - $t_{t_{.l}=0}=1$ ogni l \\ne j=1\n",
        "\n",
        "Forma generale delle f.stimabili\n",
        "\n",
        "$$q^t\\beta= t_{..}+\\sum_{j=1}^k t_{.j}\\alpha_j=$$\n",
        "\n",
        "$$1\\mu +1\\alpha_1+..+0\\alpha_j+...+0\\alpha_k=$$\n",
        "\n",
        "$$=\\mu +\\alpha_1=\\mu_1$$\n",
        "\n",
        "Ripetendo il ragionamento per ogni j\n",
        "\n",
        "$t_{.j}=1$\n",
        "\n",
        "t_{.l} per ogni $l \\ne j$ -> $t_{..}=1$\n",
        "\n",
        "$$q^t\\beta= t_{..}\\mu+\\sum_j t_{.j}\\alpha_j =\\mu+\\alpha_j=\\mu_j$$\n",
        "- ogni j\n",
        "\n",
        "-> $\\mu_j$ sono f.stimabili\n",
        "\n",
        "\n",
        "Esempio 2: COntrato: funzioni lineari degli effetti di categoria cosi definito\n",
        "\n",
        "$L^o\\sum_{j=1}^k c_j\\alpha_j$\n",
        "- dove $\\sum_{j=1}^k c_j=0$\n",
        "- dati bilanciati\n",
        "\n",
        "\n",
        "$L^o=\\sum_{j=1}^k c_jn_j\\alpha_j$\n",
        "- dove $\\sum_{j=1}^k c_jn_j=0$\n",
        "- dati non bilanciati\n",
        "\n",
        "Problema: i contrasti sono f.stimabili?\n",
        "\n",
        "Verifica: Si pone $t_{.j}=c_j$ ogni j=1..k\n",
        "\n",
        "da cui: $t_{..}=\\sum_{j=1}^k t_{.j}= \\sum_{j=1}^k c_j=^*0$\n",
        "- per difinicione di contrasto\n",
        "\n",
        "$$t^tE[Y]= q^t\\beta= t_{..} \\mu+\\sum_{j=1}^k t_{.j}\\alpha_j= 0\\mu+\\sum_{j=1}^k c_j\\alpha_j= \\sum_{j=1}^k c_j \\alpha_j = L^*$$\n",
        "\n",
        "\n",
        "---------\n",
        "Dati non bilanciati:\n",
        "\n",
        "$$t_{.j}=c_jn_j$$\n",
        "- ogni j=1...k\n",
        "\n",
        "-> $t_{..}= \\sum_{j}t_{.j}= \\sum_j c_jn_j=0$\n",
        "- per definizione di contrasto\n",
        "\n",
        "$$q^t\\beta= 0\\mu + \\sum_j c_j n_j \\alpha_j = \\sum_j c_j n_j \\alpha_j = L^*$$\n",
        "\n",
        "I contrati sono funzioni stimabili\n",
        "\n",
        "--------\n",
        "\n",
        "Esempio di contrasto:\n",
        "\n",
        "$$L^*= \\alpha_m -\\alpha_l$$\n",
        "- e' stimabile\n",
        "\n",
        "Infatti:\n",
        "\n",
        "- $c_m=1$\n",
        "- $c_l=-1$\n",
        "- $c_j=0$\n",
        "- ogni $j\\ne m$ e $j\\ne l$\n",
        "\n",
        "$$\\sum_{j=1}^k c_j= 0+0...+1+...-1+...+0= 0$$\n",
        "\n",
        "Osservazione: $\\alpha_m-\\alpha_l = \\mu_m -\\mu -(\\mu_l -\\mu)= \\mu_m -\\mu_l$\n",
        "\n",
        "\n",
        "----------\n",
        "\n",
        "Esempio 3: I parametri $\\\\mu, \\alpha_j,j=1...k$ sono stimabili?\n",
        "\n",
        "Si praov ad isolare $\\mu$:\n",
        "\n",
        "$$t_{..}\\mu+\\sum_{j=1}^k t_{j}\\alpha_j$$\n",
        "- $t_{..}=1$ e $t_{.j}=0$ ogni j-> Impossibile!!!\n",
        "\n",
        "$t_{..}=1 \\ne \\sum_{j=1}^k t_{ij}=0+..+0..+0=0$\n",
        "\n",
        "-> $\\mu$ non e' stimabile\n",
        "\n",
        "------\n",
        "\n",
        "Si prova ad isolare $\\alpha_j$ con g-fissato:\n",
        "\n",
        "$t_{..}=0$ , $t_{.j}=1$,  $t_{.l}=0$ ogni $l\\ne j$\n",
        "\n",
        "Impossibile: nfatti:\n",
        "\n",
        "$t_{..}= 0 \\ne \\sum_{j=1}^k t_{.j}=0+...+1+...+0=1$\n",
        "\n",
        "-> gli effetti $\\alpha_j$ non sono stimabili\n",
        "\n",
        "\n",
        "-----------\n",
        "\n",
        "Osservazione: Modello 1-way ANOVA parametrizzato rispetto alla categoria di riferimento\n",
        "\n",
        "$Y_{ij}=\\mu_c+\\tau_j +\\epsilon_{ij}$ ogni i,j\n",
        "\n",
        "non pone problemi di stimabilita\n",
        "- $\\mu_c$ e' stimabile -es.1\n",
        "- $τ_j=\\mu_j-\\mu_c=\\alpha_j-\\alpha_c$ e' stimabile -es.2\n",
        "\n",
        "\n",
        "\n",
        "\n",
        "\n",
        "\n",
        "\n",
        "\n",
        "\n"
      ],
      "metadata": {
        "id": "eyXGzmVGVQns"
      }
    },
    {
      "cell_type": "markdown",
      "source": [
        "\\beta"
      ],
      "metadata": {
        "id": "qGLaOBbXVQp8"
      }
    },
    {
      "cell_type": "markdown",
      "source": [],
      "metadata": {
        "id": "YL2RTPfzVQse"
      }
    },
    {
      "cell_type": "markdown",
      "source": [],
      "metadata": {
        "id": "20TzXUcIVQu7"
      }
    },
    {
      "cell_type": "markdown",
      "source": [],
      "metadata": {
        "id": "O4pNowEBVQxp"
      }
    },
    {
      "cell_type": "markdown",
      "source": [],
      "metadata": {
        "id": "JT9_d6xuVQ0F"
      }
    },
    {
      "cell_type": "markdown",
      "source": [],
      "metadata": {
        "id": "6rYn2QbrVQ2p"
      }
    },
    {
      "cell_type": "markdown",
      "source": [],
      "metadata": {
        "id": "jCFmtdESVQ4-"
      }
    },
    {
      "cell_type": "markdown",
      "source": [],
      "metadata": {
        "id": "D36Co6cZVQ7V"
      }
    },
    {
      "cell_type": "markdown",
      "source": [],
      "metadata": {
        "id": "CwTVOupeVQ94"
      }
    },
    {
      "cell_type": "markdown",
      "source": [],
      "metadata": {
        "id": "-CyxA7PaVRAd"
      }
    },
    {
      "cell_type": "markdown",
      "source": [],
      "metadata": {
        "id": "TJ5FLuRmVRDC"
      }
    },
    {
      "cell_type": "markdown",
      "source": [],
      "metadata": {
        "id": "t0_yoJjMVRFY"
      }
    },
    {
      "cell_type": "markdown",
      "source": [],
      "metadata": {
        "id": "eBcPBwCdVRHt"
      }
    },
    {
      "cell_type": "markdown",
      "source": [],
      "metadata": {
        "id": "Qb19Rv3IVRKi"
      }
    },
    {
      "cell_type": "markdown",
      "source": [],
      "metadata": {
        "id": "e97w6dA5VRMn"
      }
    },
    {
      "cell_type": "markdown",
      "source": [],
      "metadata": {
        "id": "R5hsgUthVRPM"
      }
    },
    {
      "cell_type": "markdown",
      "source": [],
      "metadata": {
        "id": "EwVuoEEzVRRR"
      }
    },
    {
      "cell_type": "markdown",
      "source": [],
      "metadata": {
        "id": "Jkc3k3YmVRTe"
      }
    },
    {
      "cell_type": "markdown",
      "source": [],
      "metadata": {
        "id": "5hHeaUnDVRV0"
      }
    },
    {
      "cell_type": "markdown",
      "source": [],
      "metadata": {
        "id": "-4Sn9SBKVRYi"
      }
    }
  ]
}