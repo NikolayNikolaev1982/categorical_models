{
  "nbformat": 4,
  "nbformat_minor": 0,
  "metadata": {
    "colab": {
      "provenance": [],
      "authorship_tag": "ABX9TyN1N4eyn2S3V68aVlgzz4Cz",
      "include_colab_link": true
    },
    "kernelspec": {
      "name": "python3",
      "display_name": "Python 3"
    },
    "language_info": {
      "name": "python"
    }
  },
  "cells": [
    {
      "cell_type": "markdown",
      "metadata": {
        "id": "view-in-github",
        "colab_type": "text"
      },
      "source": [
        "<a href=\"https://colab.research.google.com/github/NikolayNikolaev1982/categorical_models/blob/main/video_lezione_3.ipynb\" target=\"_parent\"><img src=\"https://colab.research.google.com/assets/colab-badge.svg\" alt=\"Open In Colab\"/></a>"
      ]
    },
    {
      "cell_type": "markdown",
      "source": [
        "# Video 1"
      ],
      "metadata": {
        "id": "Aa0ffgVoVQk9"
      }
    },
    {
      "cell_type": "markdown",
      "source": [
        "## Funzioni stimabili:\n",
        "\n",
        "Classe di funzioni lineari di $\\beta$ per cui esistono vere e proprie stime sul campione (ossia, soluzione uniche).\n",
        "\n",
        "Def.informale: sia $q^t\\beta$ una combinazione lineare di $\\beta$ ($q^t$ e' il vettore di coefficienti della combinazione lineare). Se dice che:\n",
        "\n",
        "$q^t\\beta$ e' funzione stimabile <-> esiste per $q^t\\beta$ una soluzione sul campione che sia invariante alla g-inversa: $G=(X^tX)^-$ (e dunque esiste una stima per $q^t\\beta$)\n",
        "\n",
        "Def.Formale: sia $q^t\\beta$ una fubzione lineare di $\\beta$. Si dice che $q^t\\beta$ e' Funazione Stimabile  <=> $q^t\\beta= E[t^tY|X]= t^tE[Y|X]= t^tE[Y]= t^tX\\beta$\n",
        "- $E[Y]=X\\beta$\n",
        "\n",
        "per almeno un vettore t (o anche \"per qualche vettore t\"). Potrebbero essitere piu vettore t.\n",
        "\n",
        "Esempio: 1-way ANOVA:\n",
        "\n",
        "$$Y_{ij}=\\mu_j +\\epsilon_{ij}= \\mu +\\alpha_j +\\epsilon_{ij}$$\n",
        "- ogni i=1...n_j ;\n",
        "- ogni j=1...k\n",
        "\n",
        "- $\\beta=[\\mu, \\alpha_1...\\alpha_k]^t$\n",
        "- $E[Y]= [E[Y_{11}]...E[Y_{ij}]...E[Y_{n_kk}]]^t$\n",
        "- $E[Y_{ij}]= E[\\mu+\\alpha_j+\\epsilon_{ij}]= \\mu + \\alpha_j + E[\\epsilon_{ij}]=\\mu +\\alpha_j ; ogni-i,j$\n",
        "\n",
        "$$t_{1*n}^tE[Y]_{n*1}=[t_{11}...t_{ij}...t_{n_kk}][E[Y_{11}...E[Y_{n_kk}]]]^t = $$\n",
        "$$= t_{11}E[Y_{11}] + ...+ t_{n_kk}E[Y_{n_kk}]= $$\n",
        "\n",
        "$$= \\sum_{j=1}^k \\sum_{i=1}^{n_j} t_{ij}E[Y_{ij}]= \\sum_j \\sum_i t_{ij}(\\mu+\\alpha_j)=$$\n",
        "\n",
        "$$= \\sum_j(\\mu +\\alpha_j)\\sum_i t_{ij}= \\sum_j (t_{.j})(\\mu+\\alpha_j)$$\n",
        "- $\\sum_{i}t_{ij}=t_{.j}$\n",
        "\n",
        "\n",
        "$$=\\sum_j t_{.j}\\mu + \\sum_j t_{.j}\\alpha_j= \\mu\\sum_{j}t_{.j}+\\sum_j t_{.j}\\alpha_j=$$\n",
        "- $\\sum_{}$\n",
        "\n",
        "$$t_{..}\\mu +\\sum_j t_{.j}\\alpha_j= q^t\\beta$$\n",
        "\n",
        "dove:\n",
        "- $t_{.j}= \\sum_{i=1}^{n_j}t_{ij}$\n",
        "- $t_{..}=\\sum_{j=1}^{k}=\\sum_{j=1}^k \\sum_{i=1}^{n_j}t_{ij}$\n",
        "\n",
        "-> $q^t$ e' il vettore dei coefficienti per i parametri $\\beta$ ricavati come:\n",
        "- somme parzialii $t_{ij}$\n",
        "- somma totale $t_{..}$\n",
        "\n",
        "dei coefficienti $t_{ij}$ per ogni i,j\n",
        "\n",
        "$q^t=[t_{..}, t_{.1}...t_{ij}..t_{.k}]$\n",
        "\n",
        "Forrma geberale delle Funzioni Stimabili nel modello ANOVA ad una via\n",
        "\n",
        "$$q^t\\beta= [t_{..}, t_{.1}...t_{ij}..t_{.k}][\\mu \\alpha_1...\\alpha_k]=$$\n",
        "\n",
        "$$t_{..}\\mu+t_{.1}\\alpha_1+....+t_{.j}\\alpha_j + ...+t_{.k}\\alpha_k=$$\n",
        "\n",
        "$$= t_{..}\\mu + \\sum_{j=1}^k t_{.j}\\alpha_j$$\n",
        "\n",
        "-> $q^t\\beta= t^tE[Y]$\n",
        "\n",
        "-> implica nella pratica della relazione teorica: $q^t\\beta=t^tE[Y]$ per almeno un $t$\n",
        "\n",
        "- si costruisce direttamente $q$ nella pratica\n",
        "- la realazione teorica indica coma fissare gli elementi in q\n",
        "\n",
        "In generale il vettore q contine un numero di elementi che possono essere fissati liberamente (in base agli obiettivi dell'analisi) mentre gli altri elementi devono essere ricavati come somme opportune degli elementi fissati liberamente.\n",
        "- in base allo specifico GLM considerato specifiche restrizioni (o vincoli) su alcuni elementi nel vettore q.\n",
        "\n",
        "Aspetto fondamentale della teoria GLM si possono stimare solo ed esclussivamente le funzioni di $\\beta$ che rientrano nella forma generale delle funcioni stimabili che coraterrzza ogni specifico GLM.\n",
        "\n",
        "Ad ogni modello GLM si deve far corispondere la sua specifica forma generale delle funzioni stimabili.\n",
        "\n",
        "Esempi riguardanti la stimabilita nel modello ANOVA 1-way.\n",
        "\n",
        "Es 1: j=1 -> $t_{.1}=1$\n",
        "- ogni $l \\ne j=1$ -> $t_{.l}=0$\n",
        "-> $t_{..}= \\sum_{j=1}^k t_{.j}= 1+0+..+0$\n",
        "  - $t_{.1}=1$\n",
        "  - $t_{t_{.l}=0}=1$ ogni l \\ne j=1\n",
        "\n",
        "Forma generale delle f.stimabili\n",
        "\n",
        "$$q^t\\beta= t_{..}+\\sum_{j=1}^k t_{.j}\\alpha_j=$$\n",
        "\n",
        "$$1\\mu +1\\alpha_1+..+0\\alpha_j+...+0\\alpha_k=$$\n",
        "\n",
        "$$=\\mu +\\alpha_1=\\mu_1$$\n",
        "\n",
        "Ripetendo il ragionamento per ogni j\n",
        "\n",
        "$t_{.j}=1$\n",
        "\n",
        "t_{.l} per ogni $l \\ne j$ -> $t_{..}=1$\n",
        "\n",
        "$$q^t\\beta= t_{..}\\mu+\\sum_j t_{.j}\\alpha_j =\\mu+\\alpha_j=\\mu_j$$\n",
        "- ogni j\n",
        "\n",
        "-> $\\mu_j$ sono f.stimabili\n",
        "\n",
        "\n",
        "Esempio 2: COntrato: funzioni lineari degli effetti di categoria cosi definito\n",
        "\n",
        "$L^o\\sum_{j=1}^k c_j\\alpha_j$\n",
        "- dove $\\sum_{j=1}^k c_j=0$\n",
        "- dati bilanciati\n",
        "\n",
        "\n",
        "$L^o=\\sum_{j=1}^k c_jn_j\\alpha_j$\n",
        "- dove $\\sum_{j=1}^k c_jn_j=0$\n",
        "- dati non bilanciati\n",
        "\n",
        "Problema: i contrasti sono f.stimabili?\n",
        "\n",
        "Verifica: Si pone $t_{.j}=c_j$ ogni j=1..k\n",
        "\n",
        "da cui: $t_{..}=\\sum_{j=1}^k t_{.j}= \\sum_{j=1}^k c_j=^*0$\n",
        "- per difinicione di contrasto\n",
        "\n",
        "$$t^tE[Y]= q^t\\beta= t_{..} \\mu+\\sum_{j=1}^k t_{.j}\\alpha_j= 0\\mu+\\sum_{j=1}^k c_j\\alpha_j= \\sum_{j=1}^k c_j \\alpha_j = L^*$$\n",
        "\n",
        "\n",
        "---------\n",
        "Dati non bilanciati:\n",
        "\n",
        "$$t_{.j}=c_jn_j$$\n",
        "- ogni j=1...k\n",
        "\n",
        "-> $t_{..}= \\sum_{j}t_{.j}= \\sum_j c_jn_j=0$\n",
        "- per definizione di contrasto\n",
        "\n",
        "$$q^t\\beta= 0\\mu + \\sum_j c_j n_j \\alpha_j = \\sum_j c_j n_j \\alpha_j = L^*$$\n",
        "\n",
        "I contrati sono funzioni stimabili\n",
        "\n",
        "--------\n",
        "\n",
        "Esempio di contrasto:\n",
        "\n",
        "$$L^*= \\alpha_m -\\alpha_l$$\n",
        "- e' stimabile\n",
        "\n",
        "Infatti:\n",
        "\n",
        "- $c_m=1$\n",
        "- $c_l=-1$\n",
        "- $c_j=0$\n",
        "- ogni $j\\ne m$ e $j\\ne l$\n",
        "\n",
        "$$\\sum_{j=1}^k c_j= 0+0...+1+...-1+...+0= 0$$\n",
        "\n",
        "Osservazione: $\\alpha_m-\\alpha_l = \\mu_m -\\mu -(\\mu_l -\\mu)= \\mu_m -\\mu_l$\n",
        "\n",
        "\n",
        "----------\n",
        "\n",
        "Esempio 3: I parametri $\\\\mu, \\alpha_j,j=1...k$ sono stimabili?\n",
        "\n",
        "Si praov ad isolare $\\mu$:\n",
        "\n",
        "$$t_{..}\\mu+\\sum_{j=1}^k t_{j}\\alpha_j$$\n",
        "- $t_{..}=1$ e $t_{.j}=0$ ogni j-> Impossibile!!!\n",
        "\n",
        "$t_{..}=1 \\ne \\sum_{j=1}^k t_{ij}=0+..+0..+0=0$\n",
        "\n",
        "-> $\\mu$ non e' stimabile\n",
        "\n",
        "------\n",
        "\n",
        "Si prova ad isolare $\\alpha_j$ con g-fissato:\n",
        "\n",
        "$t_{..}=0$ , $t_{.j}=1$,  $t_{.l}=0$ ogni $l\\ne j$\n",
        "\n",
        "Impossibile: nfatti:\n",
        "\n",
        "$t_{..}= 0 \\ne \\sum_{j=1}^k t_{.j}=0+...+1+...+0=1$\n",
        "\n",
        "-> gli effetti $\\alpha_j$ non sono stimabili\n",
        "\n",
        "\n",
        "-----------\n",
        "\n",
        "Osservazione: Modello 1-way ANOVA parametrizzato rispetto alla categoria di riferimento\n",
        "\n",
        "$Y_{ij}=\\mu_c+\\tau_j +\\epsilon_{ij}$ ogni i,j\n",
        "\n",
        "non pone problemi di stimabilita\n",
        "- $\\mu_c$ e' stimabile -es.1\n",
        "- $τ_j=\\mu_j-\\mu_c=\\alpha_j-\\alpha_c$ e' stimabile -es.2\n",
        "\n",
        "\n",
        "\n",
        "\n",
        "\n",
        "\n",
        "\n",
        "\n",
        "\n"
      ],
      "metadata": {
        "id": "eyXGzmVGVQns"
      }
    },
    {
      "cell_type": "markdown",
      "source": [
        "## Video 2\n",
        "## Proprieta delle funzioni stimabili\n",
        "\n",
        "1. Il valore attesso di qualunque v.c. elemento del vettore Y e' stimabile\n",
        "\n",
        "Es: 1-way ANOVA\n",
        "\n",
        "$$E[Y]  = [E[Y_{11}]...E[Y_{ij}]...E[Y_{n_k k}]]^t= [\\mu_1..\\mu_j ...\\mu_k]^t$$\n",
        "\n",
        "- $\\mu_j=\\mu+\\alpha_j$\n",
        "- ogni j=1..k\n",
        "\n",
        "2. QUaluncue combinazione lineare di funzioni stimabili e' sua volta una funzione stimabile\n",
        "\n",
        "Dimostrazione: siano $q_1^t\\beta$ e $q_2^t\\beta$ due f.stim\n",
        "\n",
        "Quindi:\n",
        "- $q_1^t\\beta= t_1^t X\\beta$\n",
        "- $q_2^t\\beta= t_2^t X\\beta$\n",
        "\n",
        "COmbinazione lineare delle fue f/stim:\n",
        "\n",
        "$$d_1q_1^t\\beta + d_1q_2^t\\beta$$\n",
        "- con $d_1,d_2 \\in R, d_1d_2 \\ne 0$\n",
        "\n",
        "$$d_1t_1^tX\\beta + d_1 t_2^tX\\beta= $$\n",
        "\n",
        "$$= (d_1t_1^tX+d_1t_1^tX)\\beta= $$\n",
        "$$= ((d_1t_1^t)_{1*n}+(d_1t_1^t)_{1*n})_{1*n}X\\beta= $$\n",
        "\n",
        "- $d_1t_1^t+d_2t_2^t=t^t$\n",
        "\n",
        "$$=t^tX\\beta= t^tE[Y]=q^t\\beta$$\n",
        "- c.v.d\n",
        "\n",
        "La proprieta si puo generalizzare al caso di combinazione lineare con piu di due funzioni stimabili\n",
        "\n",
        "-------\n",
        "\n",
        "3. Forma generale delle funzioni stimabili:\n",
        "\n",
        "$q^t\\beta$ e' stimabile <-> $q^t\\beta^tX\\beta$ per almeno un t\n",
        "\n",
        "- la stimabilita non dipende dal particolare $\\beta$ ma dal vettore di coefficenti $q^t$\n",
        "\n",
        "$q^t\\beta=t^tX\\beta$<-> $q^t=t^tX$ per almeno un t\n",
        "\n",
        "Esempio: K=3, $\\bar{n}=2$ n=6\n",
        "\n",
        "- $t_{1*6}^tX_{6*4}= [t_{11}, t_{21} t_{12} t_{22} t_{13} t_{23}]. X$\n",
        "\n",
        "$$X=\n",
        "\\begin{array}{c}\n",
        "\\mu \\quad\\alpha_1 \\quad \\alpha_2 \\quad \\alpha_3\\\\\\\\\n",
        "\\begin{bmatrix}\n",
        "1 & 1 & 0 & 0 \\\\\\\\\n",
        "1 & 1 & 0 & 0 \\\\\\\\\n",
        "1 & 0 & 1 & 0 \\\\\\\\\n",
        "1 & 0 & 1 & 0 \\\\\\\\\n",
        "1 & 0 & 0 & 1 \\\\\\\\\n",
        "1 & 0 & 0 & 1 \\\\\\\\\n",
        "\\end{bmatrix}\n",
        "\\end{array}\n",
        "$$\n",
        "\n",
        "Prodotti riga per colonne:\n",
        "\n",
        "$(1,1): 1.t_{11}+1.t_{21}+1.t_{12}+1t_{22}+1.t_{13}+1.t_{23}=$\n",
        "$=\\sum_{j=1}^3\\sum_{i=1}^2 t_{ij}=t_{..}$\n",
        "\n",
        "$(1,2): 1.t_{11}+1t_{21}+0.t_{12}+0t_{22}+0.t_{13}+0.t_{23}= t_{11}+t_{21}=t_{.1}$\n",
        "\n",
        "$(1,3): 0.t_{11}+0t_{21}+1.t_{12}+1t_{22}+0.t_{13}+0.t_{23}= t_{12}+t_{22}=t_{.2}$\n",
        "\n",
        "$(1,4): 0.t_{11}+0t_{21}+0.t_{12}+0.t_{22}+1.t_{13}+1.t_{23}= t_{13}+t_{23}=t_{.3}$\n",
        "\n",
        "-> $q^t_{1*4}= [t_{..} t_{.1}t_{.2}+t_{.3}]$\n",
        "\n",
        "-> $q^t\\beta= t_{..}\\mu+t_{.1}\\alpha_1 +t_{.2}\\alpha_2+t_{.3}\\alpha_3$\n",
        "\n",
        "\n",
        "Esempio di funzioni stimabili:\n",
        "\n",
        "$t_{.1}=1, t_{.2}=5, t_{.3}=-1$\n",
        "\n",
        "-> $t_{..}= \\sum_{j=1}^3 t_{.j}=1+5-1=5$\n",
        "\n",
        "-> $q^t\\beta= 5\\mu+\\alpha_1+5\\alpha_2 -\\alpha_3$\n",
        "\n",
        "\n",
        "Stima per la f.stim: $q^t\\beta$:\n",
        "\n",
        "$$q^t\\beta^o= q^tGX^ty$$\n",
        "- $\\beta^o=(X^tX)^{-}X^t y= GX^ty$\n",
        "\n",
        "- $q^t\\beta^o$ e' invariante alla g-inversa e quindi e' una vera e propria stima per $q^t\\beta$: Infatti:\n",
        "\n",
        "$q^t\\beta^o= q^tGX^ty= t^tXGX^ty$\n",
        "- $q^t=t^tX$\n",
        "- teorema 3 - prodotto invariante a G inversa\n",
        "\n",
        "5. Stimare per la f.stim $q^t\\beta$. Al variare del campione:\n",
        "\n",
        "$$q^t\\beta^o= q^tGX^ty-> q^t B^o=q^tGX^tY$$\n",
        "e' BLUE\n",
        "\n",
        "Linearita:\n",
        "$$q^tB^o=q^tGX^tY= a_{1*n}^t Y= $$\n",
        "- trasformazione lineare di Y\n",
        "\n",
        "Correttezza:\n",
        "\n",
        "$$E[q^tB^o]= q^tE[B^o]= q^t E[GX^tY]= q^t GX^tE[Y]=q^tGX^tX\\beta$= t^tXGX^tX\\beta= t^tX\\beta^t\\beta= q^t\\beta$\n",
        "\n",
        "- $q^t=t^t X$\n",
        "- per Teo 2\n",
        "- per ogni $q^t\\beta$\n",
        "\n",
        "\"BEST\": proprieta di efficienza di $1^tB^o$ rispetto alla clase degli stimatori lineari e corretti per $1^t\\beta$\n",
        "- generalizzazone del teorema di Gauss-Markov al GLM\n",
        "- $q^tB^o$ e' lo stimatore a varianza minima nella classse degli stimatori lineari e corretti\n",
        "\n",
        "\n",
        "Varianza:\n",
        "\n",
        "$$Var[q_{1*p}^tB_{p*1}^o]_{1*1}=q^tV[B^o]q = $$\n",
        "- $V[B^o]=\\sigma^2GX^tXG^t$\n",
        "\n",
        "$$= \\sigma^2 q^t GX^tXG^tq=  $$\n",
        "- $q^t=t^tX -> q=(t^tX)^t= X^tt$\n",
        "\n",
        "$$= \\sigma^2q^t GX^tXG^tX^tt=$$\n",
        "- $X^tXG^tX^t=(XGX^tX)^t=X^t$\n",
        "\n",
        "$$\\sigma^2q^tGX^tt= \\sigma^2q^tGq$$\n",
        "\n",
        "-> $Var[q^tB^o]=\\sigma^2q^tGq$ e' invariante a G?\n",
        "\n",
        "$$\\sigma^2q^tGq=\\sigma62t^tXGX^tt$$\n",
        "- teo 3 - e' invariante a G\n",
        "\n",
        "\n",
        "\n",
        "\n"
      ],
      "metadata": {
        "id": "qGLaOBbXVQp8"
      }
    },
    {
      "cell_type": "markdown",
      "source": [
        "## Video 3:\n",
        "\n",
        "## Generalizzazione del concetto di stimabilita a piu funzioni considerate congiuntamente:\n",
        "\n"
      ],
      "metadata": {
        "id": "YL2RTPfzVQse"
      }
    },
    {
      "cell_type": "markdown",
      "source": [],
      "metadata": {
        "id": "20TzXUcIVQu7"
      }
    },
    {
      "cell_type": "markdown",
      "source": [],
      "metadata": {
        "id": "O4pNowEBVQxp"
      }
    },
    {
      "cell_type": "markdown",
      "source": [],
      "metadata": {
        "id": "JT9_d6xuVQ0F"
      }
    },
    {
      "cell_type": "markdown",
      "source": [],
      "metadata": {
        "id": "6rYn2QbrVQ2p"
      }
    },
    {
      "cell_type": "markdown",
      "source": [],
      "metadata": {
        "id": "jCFmtdESVQ4-"
      }
    },
    {
      "cell_type": "markdown",
      "source": [],
      "metadata": {
        "id": "D36Co6cZVQ7V"
      }
    },
    {
      "cell_type": "markdown",
      "source": [],
      "metadata": {
        "id": "CwTVOupeVQ94"
      }
    },
    {
      "cell_type": "markdown",
      "source": [],
      "metadata": {
        "id": "-CyxA7PaVRAd"
      }
    },
    {
      "cell_type": "markdown",
      "source": [],
      "metadata": {
        "id": "TJ5FLuRmVRDC"
      }
    },
    {
      "cell_type": "markdown",
      "source": [],
      "metadata": {
        "id": "t0_yoJjMVRFY"
      }
    },
    {
      "cell_type": "markdown",
      "source": [],
      "metadata": {
        "id": "eBcPBwCdVRHt"
      }
    },
    {
      "cell_type": "markdown",
      "source": [],
      "metadata": {
        "id": "Qb19Rv3IVRKi"
      }
    },
    {
      "cell_type": "markdown",
      "source": [],
      "metadata": {
        "id": "e97w6dA5VRMn"
      }
    },
    {
      "cell_type": "markdown",
      "source": [],
      "metadata": {
        "id": "R5hsgUthVRPM"
      }
    },
    {
      "cell_type": "markdown",
      "source": [],
      "metadata": {
        "id": "EwVuoEEzVRRR"
      }
    },
    {
      "cell_type": "markdown",
      "source": [],
      "metadata": {
        "id": "Jkc3k3YmVRTe"
      }
    },
    {
      "cell_type": "markdown",
      "source": [],
      "metadata": {
        "id": "5hHeaUnDVRV0"
      }
    },
    {
      "cell_type": "markdown",
      "source": [],
      "metadata": {
        "id": "-4Sn9SBKVRYi"
      }
    }
  ]
}